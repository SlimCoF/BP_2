{
 "cells": [
  {
   "cell_type": "code",
   "execution_count": 1,
   "id": "96078ac1",
   "metadata": {},
   "outputs": [],
   "source": [
    "import cv2\n",
    "import numpy as np\n",
    "\n",
    "import sys  \n",
    "sys.path.insert(0, './scripts/')\n",
    "import auxiliary_functions as utils\n",
    "from model import U_net\n",
    "from dataset import CustomDataset\n",
    "\n",
    "import torch\n",
    "from torch.utils.data import DataLoader\n",
    "import torch.nn as nn"
   ]
  },
  {
   "cell_type": "code",
   "execution_count": 2,
   "id": "5b361a9a",
   "metadata": {},
   "outputs": [],
   "source": [
    "TILE_SIZE = (256, 256)\n",
    "SHIFT_SIZE = 256\n",
    "DEVICE = \"cuda\" if torch.cuda.is_available() else \"cpu\"\n",
    "BATCH_SIZE = 16"
   ]
  },
  {
   "cell_type": "code",
   "execution_count": 3,
   "id": "d6358c47",
   "metadata": {},
   "outputs": [],
   "source": [
    "mask = np.array(cv2.imread(\"./MiniTestSet/mask.png\", cv2.IMREAD_GRAYSCALE))\n",
    "img = np.array(cv2.imread(\"./MiniTestSet/img.png\", cv2.IMREAD_COLOR))\n",
    "normalize_target = np.array(cv2.imread(\"./MiniTestSet/normalize target.png\", cv2.IMREAD_COLOR))"
   ]
  },
  {
   "cell_type": "code",
   "execution_count": 4,
   "id": "ffabb1da",
   "metadata": {},
   "outputs": [],
   "source": [
    "mask = utils.edit_masks(mask)"
   ]
  },
  {
   "cell_type": "code",
   "execution_count": 5,
   "id": "fb9a50c4",
   "metadata": {},
   "outputs": [],
   "source": [
    "img = utils.normalize_images(normalize_target, [img])[0]"
   ]
  },
  {
   "cell_type": "code",
   "execution_count": 6,
   "id": "e41cb480",
   "metadata": {},
   "outputs": [
    {
     "name": "stdout",
     "output_type": "stream",
     "text": [
      "2919\n",
      "3794\n"
     ]
    }
   ],
   "source": [
    "img_height, img_width, img_channels = img.shape\n",
    "print(img_height)\n",
    "print(img_width)"
   ]
  },
  {
   "cell_type": "code",
   "execution_count": 7,
   "id": "6cbb4ba5",
   "metadata": {},
   "outputs": [],
   "source": [
    "tiles_mask = []\n",
    "tiles_img = []\n",
    "for row in range(0, img_height, SHIFT_SIZE):\n",
    "    if (row + SHIFT_SIZE) > img_height:\n",
    "        break\n",
    "    for column in range(0, img_width, SHIFT_SIZE):\n",
    "        if (column + SHIFT_SIZE) > img_width:\n",
    "            break\n",
    "        else:\n",
    "            tiles_mask.append(mask[row : row + TILE_SIZE[0], column : column + TILE_SIZE[1]])\n",
    "            tiles_img.append(img[row : row + TILE_SIZE[0], column : column + TILE_SIZE[1]])"
   ]
  },
  {
   "cell_type": "code",
   "execution_count": 8,
   "id": "da5e764a",
   "metadata": {},
   "outputs": [],
   "source": [
    "test_dataset = CustomDataset(tiles_img, tiles_mask, train=False)\n",
    "test_loader = DataLoader(\n",
    "        test_dataset, \n",
    "        batch_size=BATCH_SIZE,\n",
    "    )"
   ]
  },
  {
   "cell_type": "code",
   "execution_count": 9,
   "id": "85dc9f21",
   "metadata": {},
   "outputs": [
    {
     "name": "stdout",
     "output_type": "stream",
     "text": [
      "=> Loading checkpoint\n"
     ]
    }
   ],
   "source": [
    "model = U_net(input_channels=3, output_channels=5).to(DEVICE)\n",
    "utils.load_checkpoint(torch.load('./SavedModel/checkpoint.pth.tar', map_location='cpu'), model)"
   ]
  },
  {
   "cell_type": "code",
   "execution_count": null,
   "id": "8946c30e",
   "metadata": {},
   "outputs": [],
   "source": [
    "model.eval()\n",
    "predictions =  \n",
    "with torch.no_grad():\n",
    "    for x, y in test_loader:\n",
    "        x = x.to(device=DEVICE)\n",
    "        y = y.to(device=DEVICE)\n",
    "        \n",
    "        preds = model(x).to(device=device)\n",
    "        sm = nn.Softmax(dim=1)\n",
    "        predictions.append(sm(preds))"
   ]
  },
  {
   "cell_type": "code",
   "execution_count": null,
   "id": "380978c9",
   "metadata": {},
   "outputs": [],
   "source": []
  },
  {
   "cell_type": "code",
   "execution_count": 123,
   "id": "b007a84f",
   "metadata": {},
   "outputs": [
    {
     "data": {
      "text/plain": [
       "11"
      ]
     },
     "execution_count": 123,
     "metadata": {},
     "output_type": "execute_result"
    }
   ],
   "source": [
    "int(img_height / TILE_SIZE[0])"
   ]
  },
  {
   "cell_type": "code",
   "execution_count": 124,
   "id": "48f5482a",
   "metadata": {},
   "outputs": [
    {
     "data": {
      "text/plain": [
       "14"
      ]
     },
     "execution_count": 124,
     "metadata": {},
     "output_type": "execute_result"
    }
   ],
   "source": [
    "int(img_width / TILE_SIZE[1])"
   ]
  },
  {
   "cell_type": "code",
   "execution_count": 125,
   "id": "bccaca00",
   "metadata": {},
   "outputs": [],
   "source": [
    "output_img = []\n",
    "rows_portion = int(img_height / TILE_SIZE[0])\n",
    "columns_portion = int(img_width / TILE_SIZE[1])\n",
    "\n",
    "for row in range(0, rows_portion):\n",
    "    for tile_row in range(0, TILE_SIZE[0]):\n",
    "        combined_row = []\n",
    "        for column in range(0, columns_portion):\n",
    "            combined_row.append()"
   ]
  },
  {
   "cell_type": "code",
   "execution_count": null,
   "id": "9b27bdcd",
   "metadata": {},
   "outputs": [],
   "source": []
  }
 ],
 "metadata": {
  "kernelspec": {
   "display_name": "Python 3",
   "language": "python",
   "name": "python3"
  },
  "language_info": {
   "codemirror_mode": {
    "name": "ipython",
    "version": 3
   },
   "file_extension": ".py",
   "mimetype": "text/x-python",
   "name": "python",
   "nbconvert_exporter": "python",
   "pygments_lexer": "ipython3",
   "version": "3.8.8"
  }
 },
 "nbformat": 4,
 "nbformat_minor": 5
}
