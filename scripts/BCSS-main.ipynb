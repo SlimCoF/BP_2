{
 "cells": [
  {
   "cell_type": "code",
   "execution_count": 1,
   "id": "d3834092",
   "metadata": {},
   "outputs": [],
   "source": [
    "# import cv2\n",
    "from os import walk\n",
    "from tqdm import tqdm\n",
    "import numpy as np\n",
    "import matplotlib.pyplot as plt\n",
    "import wandb\n",
    "# import os\n",
    "import azureml.core\n",
    "from azureml.core import Workspace, Dataset, Experiment, ScriptRunConfig, Environment\n",
    "# from azureml.data.datapath import DataPath\n",
    "from azureml.core.authentication import InteractiveLoginAuthentication\n",
    "from azureml.core.runconfig import DockerConfiguration\n",
    "from azureml.core.conda_dependencies import CondaDependencies"
   ]
  },
  {
   "cell_type": "code",
   "execution_count": 2,
   "id": "21b4a5a2",
   "metadata": {},
   "outputs": [],
   "source": [
    "# wandb.login()"
   ]
  },
  {
   "cell_type": "code",
   "execution_count": 3,
   "id": "6c57efcd",
   "metadata": {},
   "outputs": [],
   "source": [
    "# Wandb_key = 73a6229fd23f300e506915af1156d39cd5a21a4e"
   ]
  },
  {
   "cell_type": "code",
   "execution_count": 12,
   "id": "1fb56d9d",
   "metadata": {},
   "outputs": [],
   "source": [
    "def env_packages():\n",
    "    conda_dep = CondaDependencies()\n",
    "    conda_dep.add_channel('pytorch')\n",
    "    conda_dep.add_channel('defaults')\n",
    "    \n",
    "    conda_dep.add_conda_package('python=3.8')\n",
    "    conda_dep.add_conda_package('pip')\n",
    "    conda_dep.add_conda_package('python-spams')\n",
    "    \n",
    "    conda_dep.add_pip_package('wandb>=0.10.30')\n",
    "    conda_dep.add_pip_package('opencv-python-headless>=4.4.0.46')\n",
    "    conda_dep.add_pip_package('numpy')\n",
    "    conda_dep.add_pip_package('matplotlib>=3.3.3')\n",
    "    conda_dep.add_pip_package('torch>=1.8.1')\n",
    "    conda_dep.add_pip_package('torch-summary')\n",
    "    conda_dep.add_pip_package('torchvision==0.5.0')\n",
    "    conda_dep.add_pip_package('pandas~=1.4.1')\n",
    "    conda_dep.add_pip_package('azureml-core~=1.39.0')\n",
    "    conda_dep.add_pip_package('torchvision')\n",
    "    conda_dep.add_pip_package('tqdm')\n",
    "    conda_dep.add_pip_package('segmentation_models_pytorch')\n",
    "    \n",
    "    return conda_dep"
   ]
  },
  {
   "cell_type": "code",
   "execution_count": 13,
   "id": "c2725b14",
   "metadata": {},
   "outputs": [
    {
     "name": "stdout",
     "output_type": "stream",
     "text": [
      "a0047stufiitml01\twesteurope\ta0047-STUFIIT-ML01\n"
     ]
    }
   ],
   "source": [
    "ws = Workspace.from_config('config.json', auth=InteractiveLoginAuthentication())\n",
    "print(ws.name, ws.location, ws.resource_group, sep='\\t')"
   ]
  },
  {
   "cell_type": "code",
   "execution_count": 14,
   "id": "c7ea5936",
   "metadata": {
    "scrolled": true
   },
   "outputs": [],
   "source": [
    "experiment = Experiment(workspace=ws, name='BCSS-Slimak')"
   ]
  },
  {
   "cell_type": "code",
   "execution_count": 15,
   "id": "20f4fa9d",
   "metadata": {},
   "outputs": [],
   "source": [
    "dataset = Dataset.get_by_name(workspace=ws, name='BCSS-Dataset')"
   ]
  },
  {
   "cell_type": "code",
   "execution_count": 34,
   "id": "0c0cd722",
   "metadata": {},
   "outputs": [],
   "source": [
    "dc = DockerConfiguration(use_docker=True)\n",
    "\n",
    "config = ScriptRunConfig(source_directory='../',\n",
    "                         script='./scripts/main.py',\n",
    "                         arguments=['--wandb', \"73a6229fd23f300e506915af1156d39cd5a21a4e\",\n",
    "#                          arguments=['--wandb', \"584287ef3bc4e3311465171c04c9525858e97893\",\n",
    "                                    '--data_path', dataset.as_mount()],\n",
    "                         compute_target='Slimak-P100',\n",
    "                         docker_runtime_config=dc)"
   ]
  },
  {
   "cell_type": "code",
   "execution_count": 35,
   "id": "d75b9b6f",
   "metadata": {},
   "outputs": [
    {
     "data": {
      "text/plain": [
       "{\n",
       "    \"databricks\": {\n",
       "        \"eggLibraries\": [],\n",
       "        \"jarLibraries\": [],\n",
       "        \"mavenLibraries\": [],\n",
       "        \"pypiLibraries\": [],\n",
       "        \"rcranLibraries\": []\n",
       "    },\n",
       "    \"docker\": {\n",
       "        \"arguments\": [],\n",
       "        \"baseDockerfile\": null,\n",
       "        \"baseImage\": \"mcr.microsoft.com/azureml/openmpi3.1.2-ubuntu18.04:20220208.v1\",\n",
       "        \"baseImageRegistry\": {\n",
       "            \"address\": null,\n",
       "            \"password\": null,\n",
       "            \"registryIdentity\": null,\n",
       "            \"username\": null\n",
       "        },\n",
       "        \"enabled\": false,\n",
       "        \"platform\": {\n",
       "            \"architecture\": \"amd64\",\n",
       "            \"os\": \"Linux\"\n",
       "        },\n",
       "        \"sharedVolumes\": true,\n",
       "        \"shmSize\": null\n",
       "    },\n",
       "    \"environmentVariables\": {\n",
       "        \"EXAMPLE_ENV_VAR\": \"EXAMPLE_VALUE\"\n",
       "    },\n",
       "    \"inferencingStackVersion\": null,\n",
       "    \"name\": \"slimak-env\",\n",
       "    \"python\": {\n",
       "        \"baseCondaEnvironment\": null,\n",
       "        \"condaDependencies\": {\n",
       "            \"channels\": [\n",
       "                \"anaconda\",\n",
       "                \"conda-forge\",\n",
       "                \"pytorch\",\n",
       "                \"defaults\"\n",
       "            ],\n",
       "            \"dependencies\": [\n",
       "                \"python=3.8\",\n",
       "                {\n",
       "                    \"pip\": [\n",
       "                        \"azureml-defaults\",\n",
       "                        \"wandb>=0.10.30\",\n",
       "                        \"opencv-python-headless>=4.4.0.46\",\n",
       "                        \"numpy\",\n",
       "                        \"matplotlib>=3.3.3\",\n",
       "                        \"torch>=1.8.1\",\n",
       "                        \"torch-summary\",\n",
       "                        \"pandas~=1.4.1\",\n",
       "                        \"azureml-core~=1.39.0\",\n",
       "                        \"torchvision\",\n",
       "                        \"tqdm\",\n",
       "                        \"segmentation_models_pytorch\"\n",
       "                    ]\n",
       "                },\n",
       "                \"pip\",\n",
       "                \"python-spams\"\n",
       "            ],\n",
       "            \"name\": \"azureml_e0d51935f64c4e7ef8a9c00fbf9baa5e\"\n",
       "        },\n",
       "        \"condaDependenciesFile\": null,\n",
       "        \"interpreterPath\": \"python\",\n",
       "        \"userManagedDependencies\": false\n",
       "    },\n",
       "    \"r\": null,\n",
       "    \"spark\": {\n",
       "        \"packages\": [],\n",
       "        \"precachePackages\": true,\n",
       "        \"repositories\": []\n",
       "    },\n",
       "    \"version\": \"24\"\n",
       "}"
      ]
     },
     "execution_count": 35,
     "metadata": {},
     "output_type": "execute_result"
    }
   ],
   "source": [
    "# azureml.core.runconfig.DockerConfiguration(use_docker=True)\n",
    "env = Environment('slimak-env')\n",
    "env.python.conda_dependencies = env_packages()\n",
    "env.save_to_directory('../', overwrite=True)\n",
    "env.register(workspace=ws)\n",
    "\n",
    "# env = Environment.get(workspace=ws, name='Torch1.8-Opencv-wandb')"
   ]
  },
  {
   "cell_type": "code",
   "execution_count": 36,
   "id": "cc9f3848",
   "metadata": {},
   "outputs": [],
   "source": [
    "config.run_config.environment = env"
   ]
  },
  {
   "cell_type": "code",
   "execution_count": 37,
   "id": "124a9f10",
   "metadata": {},
   "outputs": [],
   "source": [
    "run = experiment.submit(config)"
   ]
  },
  {
   "cell_type": "code",
   "execution_count": 38,
   "id": "37f15c37",
   "metadata": {},
   "outputs": [
    {
     "name": "stdout",
     "output_type": "stream",
     "text": [
      "https://ml.azure.com/runs/BCSS-Slimak_1649146980_864fd4e4?wsid=/subscriptions/bc82dccd-f19d-42cb-9ce3-0d5df33ef086/resourcegroups/a0047-STUFIIT-ML01/workspaces/a0047stufiitml01&tid=5dbf1add-202a-4b8d-815b-bf0fb024e033\n"
     ]
    }
   ],
   "source": [
    "aml_url = run.get_portal_url()\n",
    "print(aml_url)"
   ]
  },
  {
   "cell_type": "code",
   "execution_count": null,
   "id": "b77721ee",
   "metadata": {},
   "outputs": [],
   "source": []
  },
  {
   "cell_type": "code",
   "execution_count": null,
   "id": "8cc5c624",
   "metadata": {},
   "outputs": [],
   "source": []
  },
  {
   "cell_type": "code",
   "execution_count": 21,
   "id": "40476cb3",
   "metadata": {},
   "outputs": [],
   "source": [
    "arr = []"
   ]
  },
  {
   "cell_type": "code",
   "execution_count": 22,
   "id": "c88507ab",
   "metadata": {},
   "outputs": [],
   "source": [
    "arr.append({\n",
    "            \"path\": \"/feijf/erg\",\n",
    "            \"mean\": 12,\n",
    "            \"stds\": 10\n",
    "        })\n",
    "arr.append({\n",
    "            \"path\": \"/feergwergerg\",\n",
    "            \"mean\": 14,\n",
    "            \"stds\": 19\n",
    "        })"
   ]
  },
  {
   "cell_type": "code",
   "execution_count": 23,
   "id": "07fd69c9",
   "metadata": {},
   "outputs": [
    {
     "data": {
      "text/plain": [
       "[{'path': '/feijf/erg', 'mean': 12, 'stds': 10},\n",
       " {'path': '/feergwergerg', 'mean': 14, 'stds': 19}]"
      ]
     },
     "execution_count": 23,
     "metadata": {},
     "output_type": "execute_result"
    }
   ],
   "source": [
    "arr"
   ]
  },
  {
   "cell_type": "code",
   "execution_count": 24,
   "id": "cb2491e5",
   "metadata": {},
   "outputs": [],
   "source": [
    "sorted_by_mean = sorted(arr, key=lambda d: d['mean'])"
   ]
  },
  {
   "cell_type": "code",
   "execution_count": 27,
   "id": "73fb55df",
   "metadata": {},
   "outputs": [
    {
     "data": {
      "text/plain": [
       "7.0"
      ]
     },
     "execution_count": 27,
     "metadata": {},
     "output_type": "execute_result"
    }
   ],
   "source": [
    "mid = sorted_by_mean[-1][\"mean\"]/2\n",
    "mid"
   ]
  },
  {
   "cell_type": "code",
   "execution_count": null,
   "id": "1fd04b09",
   "metadata": {},
   "outputs": [],
   "source": []
  },
  {
   "cell_type": "code",
   "execution_count": 40,
   "id": "14196bf6",
   "metadata": {},
   "outputs": [
    {
     "data": {
      "image/png": "[encoded data removed]",
      "text/plain": [
       "<Figure size 432x288 with 1 Axes>"
      ]
     },
     "metadata": {
      "needs_background": "light"
     },
     "output_type": "display_data"
    }
   ],
   "source": [
    "import numpy as np\n",
    "import matplotlib.pyplot as plt\n",
    "import random\n",
    "from PIL import Image\n",
    "\n",
    "img = []\n",
    "for i in range(28):\n",
    "    tmp_arr = []\n",
    "    for j in range(28):\n",
    "        rand_pix = random.randint(0, 255)\n",
    "        tmp_arr.append(rand_pix)\n",
    "    img.append(tmp_arr)\n",
    "img = np.array(img)\n",
    "\n",
    "fname = 'mask.png'\n",
    "arr = np.asarray(img)\n",
    "plt.imshow(arr, cmap='gray', vmin=0, vmax=255)\n",
    "plt.show()"
   ]
  },
  {
   "cell_type": "code",
   "execution_count": 41,
   "id": "b1a9f882",
   "metadata": {},
   "outputs": [],
   "source": [
    "import torchvision.transforms as transforms\n",
    "\n",
    "transforms = transforms.ToTensor()"
   ]
  },
  {
   "cell_type": "code",
   "execution_count": 42,
   "id": "703be072",
   "metadata": {},
   "outputs": [
    {
     "data": {
      "text/plain": [
       "tensor([[[182, 245, 182, 198,  59,  18, 184, 136, 166, 186, 245,  45, 123, 217,\n",
       "           75, 186, 241,  79, 113, 177,  18, 164,  15,  31,  13, 231,  32,  30],\n",
       "         [ 94, 229, 249,  26,  46, 179, 141,  68,  57, 218, 121, 247, 163, 214,\n",
       "           64, 186,  20,  24,  13, 246,  78, 190, 136,  58,  79,  14,  18,  87],\n",
       "         [ 65,  72,  77, 120,  32,  16, 215, 185,  12, 114, 121, 190,  24, 254,\n",
       "          159, 110, 112,  48,  11,  47, 130,  63,  69, 126, 188,  44,   5, 244],\n",
       "         [171,  64,  74, 222, 137,  83,  51,  37, 166, 116,  64,  69, 127,  83,\n",
       "          106, 106, 226, 243, 110,  65,  72,  68, 187,  55, 136,  42, 232, 170],\n",
       "         [ 92,  38, 237, 193, 182, 157, 157, 221, 136, 137, 190, 221, 224, 196,\n",
       "            9, 197,  19, 202, 149,  20,  21, 146,  16,  85, 150, 202,  67,  87],\n",
       "         [ 16,  17, 241,  55, 159, 239,  44, 212, 173, 121, 237, 202,  86, 137,\n",
       "          160, 255, 173, 207,   6,  60, 234, 117,  17, 160, 180, 136, 232, 160],\n",
       "         [129,  33, 219, 171,  17,  50, 218,   7,  37, 152,   8,  31, 168,  45,\n",
       "           41, 193,  12, 128,  28,  15, 129,  86, 160, 132, 104, 179,  33, 214],\n",
       "         [131,  33,  25, 158,  74, 108, 135, 196, 254,  96,  14, 185, 240,  36,\n",
       "            5, 169, 108, 164,  43, 220, 246, 144, 161,   0,  72,  59, 144,  83],\n",
       "         [197,  67, 218,  37,  50, 100, 240,  56,  27,  54, 252,  75, 110, 198,\n",
       "           81,  89, 223, 171, 231,  35,  92,  81,  23,  43, 174, 141,  32, 193],\n",
       "         [241, 103,  50,  88, 222, 100,  78, 130,  87, 205, 127,  90, 126, 130,\n",
       "          176,  28, 149, 166,  42,  22, 178, 218, 214,  75, 175, 225,  41, 202],\n",
       "         [ 99, 171, 137, 192, 213,  50, 214,  27, 120, 192,  89, 161, 165, 115,\n",
       "          216, 241, 204,  37, 252, 224, 235, 211, 186,  98, 114,  66, 231,  66],\n",
       "         [192, 164, 123, 186, 138, 169,  67, 240, 231,  74,  55,  91,  28, 160,\n",
       "           93, 216, 151,  41, 152, 255, 218, 194,  15, 210,  14, 198, 252,  75],\n",
       "         [198, 237,  91, 215, 210,  62,  68,  86,  84, 117, 129, 225,   0,  69,\n",
       "          205, 239, 110, 172, 199,  12, 170, 253, 205, 214, 215, 230,  30, 168],\n",
       "         [152, 189,   0, 151, 238, 237, 162,  69, 215, 178,  62,  48,   1, 111,\n",
       "           44, 181,  26, 211,  97, 161, 221, 212, 228, 206,  77, 210,  53, 254],\n",
       "         [ 36, 162, 212, 118,  99, 232,  39, 218,  63, 254,  71, 120,  13, 147,\n",
       "           61, 177, 130, 175, 211,  23, 123,  91, 167,  15, 250,  61, 236,  69],\n",
       "         [245,  54,  50, 173, 121,   8, 118,  57,  22, 253,  61,  89, 147,  16,\n",
       "          163,  73, 231,  53, 205,  65, 208,  42, 210,  66,  61, 215,  60,   5],\n",
       "         [ 35, 105, 238, 152, 182,   6, 147, 174,  33, 141, 145,  50, 250, 238,\n",
       "            7,  81,  17, 237,  20, 153, 253, 145, 131, 178, 129,  65,  82, 105],\n",
       "         [251, 154, 160, 139,   8, 143, 208,  75, 188, 244, 226, 100, 102, 106,\n",
       "           89, 217, 177, 151,  55, 188, 212,  79, 192,  13, 215, 159, 104,  93],\n",
       "         [118,  82,  22, 180, 189, 246, 172, 101, 108,  79, 143, 163, 197,  82,\n",
       "          246,  65,  96,  36, 226, 251,  61, 115,  71,  57,  73,  18, 180,  29],\n",
       "         [140,  64, 120,  98,  22,  33, 220,  16, 157,  36,  92,  22,  30, 170,\n",
       "          123, 136, 120,  73,  82,  22,   8, 229, 135, 124, 166, 134,  42,  13],\n",
       "         [218, 149,  49,  87,  44, 103,  72, 181,  59, 176, 230,  51, 169,  65,\n",
       "            7, 132,  69, 247, 166, 202, 193, 147, 219,  86, 237, 187, 184, 138],\n",
       "         [ 36, 149,  76,  98, 225, 116,  33,  37, 131, 121,  43, 170, 162,  23,\n",
       "          154,  77,  52, 144, 213, 228,  63,  47, 142, 228, 243, 170, 252, 180],\n",
       "         [129, 246, 244, 134, 111,  77,   4, 222, 102, 197, 200,  98,  71, 127,\n",
       "          213, 231,  16,  45, 171, 198, 130, 255, 249, 156, 119, 202, 197,  30],\n",
       "         [ 68, 155,  65,   8, 104, 168, 226, 201, 115,  41, 208, 178,  34, 237,\n",
       "          181, 176, 234,  67, 153, 150, 244, 184, 175, 235, 204, 139, 238,  22],\n",
       "         [ 52, 181, 218, 224, 230,  55,  93,  70, 236,  95,  40,  63,  14, 238,\n",
       "          226, 132, 151, 121,  16,  66, 171,  30,  92,  47, 123, 249, 170, 137],\n",
       "         [195, 227,  82, 112, 253, 115,  91, 167, 110, 161, 122,  89,  99,  12,\n",
       "          192, 161, 253,  46, 137,  61,  52,  49, 159, 109, 246, 141, 194, 137],\n",
       "         [ 16, 123, 223,  53, 105, 104, 231, 215,  45,   4,   7, 229, 109,  85,\n",
       "           49, 128, 162, 115,  50, 242, 103,  15, 217, 204, 182,  13, 152, 196],\n",
       "         [ 14, 232,  44, 160,  87, 150, 112, 147, 156,  58, 105, 253, 230, 250,\n",
       "          210, 205,  49,  55,  13,  31,   1,  15,  36, 143, 106, 107, 115,  94]]])"
      ]
     },
     "execution_count": 42,
     "metadata": {},
     "output_type": "execute_result"
    }
   ],
   "source": [
    "transforms(img)"
   ]
  },
  {
   "cell_type": "code",
   "execution_count": 17,
   "id": "4a2b373c",
   "metadata": {},
   "outputs": [],
   "source": [
    "import numpy\n",
    "unique = numpy.unique(img.reshape(-1, img.shape[2]), axis=0)"
   ]
  },
  {
   "cell_type": "code",
   "execution_count": 18,
   "id": "379a8b97",
   "metadata": {},
   "outputs": [
    {
     "data": {
      "text/plain": [
       "784"
      ]
     },
     "execution_count": 18,
     "metadata": {},
     "output_type": "execute_result"
    }
   ],
   "source": [
    "len(unique)"
   ]
  },
  {
   "cell_type": "code",
   "execution_count": 1,
   "id": "e35b8aa0",
   "metadata": {},
   "outputs": [],
   "source": [
    "image_dir_path = r'..\\\\BCSS\\\\CrowdsourcingDataset-Amgadetal2019\\\\BCSS-dataset\\\\train\\\\images'\n",
    "mask_dir_path = r'..\\\\BCSS\\\\CrowdsourcingDataset-Amgadetal2019\\\\BCSS-dataset\\\\train\\\\masks'\n",
    "    \n",
    "images_tiles_dir_train = r'E:\\\\Desktop\\\\Bakalarka\\\\BCSS\\\\CrowdsourcingDataset-Amgadetal2019\\\\BCSS-dataset\\\\debug\\\\'\n",
    "images_tiles_dir_test = r'E:\\\\Desktop\\\\Bakalarka\\\\BCSS\\\\CrowdsourcingDataset-Amgadetal2019\\\\BCSS-dataset\\\\debug\\\\'\n",
    "masks_tiles_dir_train = r'E:\\\\Desktop\\\\Bakalarka\\\\BCSS\\\\CrowdsourcingDataset-Amgadetal2019\\\\BCSS-dataset\\\\debug\\\\'\n",
    "masks_tiles_dir_test = r'E:\\\\Desktop\\\\Bakalarka\\\\BCSS\\\\CrowdsourcingDataset-Amgadetal2019\\\\BCSS-dataset\\\\debug\\\\'\n",
    "\n",
    "test_institutes = ['OL', 'LL', 'C8', 'BH', 'AR', 'A7', 'A1']\n",
    "tile_size = 128 # 128px\n",
    "shift_size = tile_size - 20 # 108px\n",
    "\n",
    "testing_dir = r'..\\BCSS\\CrowdsourcingDataset-Amgadetal2019\\testing'"
   ]
  },
  {
   "cell_type": "code",
   "execution_count": 2,
   "id": "ea536c17",
   "metadata": {},
   "outputs": [
    {
     "ename": "NameError",
     "evalue": "name 'walk' is not defined",
     "output_type": "error",
     "traceback": [
      "\u001b[1;31m---------------------------------------------------------------------------\u001b[0m",
      "\u001b[1;31mNameError\u001b[0m                                 Traceback (most recent call last)",
      "\u001b[1;32m~\\AppData\\Local\\Temp/ipykernel_17620/318569453.py\u001b[0m in \u001b[0;36m<module>\u001b[1;34m\u001b[0m\n\u001b[0;32m      1\u001b[0m \u001b[0mimages_names\u001b[0m \u001b[1;33m=\u001b[0m \u001b[1;33m[\u001b[0m\u001b[1;33m]\u001b[0m\u001b[1;33m\u001b[0m\u001b[1;33m\u001b[0m\u001b[0m\n\u001b[1;32m----> 2\u001b[1;33m \u001b[1;32mfor\u001b[0m \u001b[1;33m(\u001b[0m\u001b[0mdirpath\u001b[0m\u001b[1;33m,\u001b[0m \u001b[0mdirname\u001b[0m\u001b[1;33m,\u001b[0m \u001b[0mfilename\u001b[0m\u001b[1;33m)\u001b[0m \u001b[1;32min\u001b[0m \u001b[0mwalk\u001b[0m\u001b[1;33m(\u001b[0m\u001b[0mimage_dir_path\u001b[0m\u001b[1;33m)\u001b[0m\u001b[1;33m:\u001b[0m\u001b[1;33m\u001b[0m\u001b[1;33m\u001b[0m\u001b[0m\n\u001b[0m\u001b[0;32m      3\u001b[0m     \u001b[0mimages_names\u001b[0m\u001b[1;33m.\u001b[0m\u001b[0mextend\u001b[0m\u001b[1;33m(\u001b[0m\u001b[0mfilename\u001b[0m\u001b[1;33m)\u001b[0m\u001b[1;33m\u001b[0m\u001b[1;33m\u001b[0m\u001b[0m\n\u001b[0;32m      4\u001b[0m     \u001b[1;32mbreak\u001b[0m\u001b[1;33m\u001b[0m\u001b[1;33m\u001b[0m\u001b[0m\n",
      "\u001b[1;31mNameError\u001b[0m: name 'walk' is not defined"
     ]
    }
   ],
   "source": [
    "images_names = []\n",
    "for (dirpath, dirname, filename) in walk(image_dir_path):\n",
    "    images_names.extend(filename)\n",
    "    break"
   ]
  },
  {
   "cell_type": "code",
   "execution_count": null,
   "id": "4f3c642d",
   "metadata": {},
   "outputs": [],
   "source": [
    "images_names = 'TCGA-A2-A0CM-DX1_xmin18562_ymin56852_MPP-0.2500.png'"
   ]
  },
  {
   "cell_type": "markdown",
   "id": "c3585f3f",
   "metadata": {},
   "source": [
    "**Function for path generation**"
   ]
  },
  {
   "cell_type": "code",
   "execution_count": 24,
   "id": "2af017e4",
   "metadata": {},
   "outputs": [],
   "source": [
    "def get_path(image_name, row, column, identifier):\n",
    "    path = \"\"\n",
    "    postfix = '[' + str(int(row/shift_size)) + ',' + str(int(column/shift_size)) + ']' + \".png\"\n",
    "    institute = image_name.split('-')[1]\n",
    "    if institute in test_institutes:\n",
    "        # Test group\n",
    "        if identifier == 'M' or identifier == 'm':\n",
    "            # Mask\n",
    "            path = masks_tiles_dir_test + '\\\\' + image_name[0:-4] + postfix\n",
    "        elif identifier == 'I' or identifier == 'i':\n",
    "            # Image\n",
    "            path = images_tiles_dir_test + '\\\\' + image_name[0:-4] + postfix\n",
    "        else:\n",
    "            return 0\n",
    "    else:\n",
    "        # Train group\n",
    "        if identifier == 'M' or identifier == 'm':\n",
    "            # Mask\n",
    "            path = masks_tiles_dir_train + '\\\\' + image_name[0:-4] + postfix\n",
    "        elif identifier == 'I' or identifier == 'i':\n",
    "            # Image\n",
    "            path = images_tiles_dir_train + '\\\\' + image_name[0:-4] + postfix\n",
    "        else:\n",
    "            return 0\n",
    "    return path"
   ]
  },
  {
   "cell_type": "markdown",
   "id": "36e7bbec",
   "metadata": {},
   "source": [
    "Split images into tiles and save them to files"
   ]
  },
  {
   "cell_type": "code",
   "execution_count": 25,
   "id": "0623025d",
   "metadata": {},
   "outputs": [
    {
     "name": "stderr",
     "output_type": "stream",
     "text": [
      "\r\n",
      "0it [00:00, ?it/s]"
     ]
    },
    {
     "name": "stdout",
     "output_type": "stream",
     "text": [
      "IMAGE - height: 2467, width: 3394, channels: 3\n",
      "MASK - height: 2467, width: 3394\n"
     ]
    },
    {
     "name": "stderr",
     "output_type": "stream",
     "text": [
      "\r\n",
      "1it [00:01,  1.79s/it]"
     ]
    },
    {
     "name": "stdout",
     "output_type": "stream",
     "text": [
      "Image nr.: 0, produced: 682 tiles\n",
      "IMAGE - height: 3426, width: 4838, channels: 3\n",
      "MASK - height: 3426, width: 4838\n"
     ]
    },
    {
     "name": "stderr",
     "output_type": "stream",
     "text": [
      "\r\n",
      "2it [00:05,  2.68s/it]"
     ]
    },
    {
     "name": "stdout",
     "output_type": "stream",
     "text": [
      "Image nr.: 1, produced: 1364 tiles\n",
      "IMAGE - height: 2919, width: 3794, channels: 3\n",
      "MASK - height: 2919, width: 3794\n"
     ]
    },
    {
     "name": "stderr",
     "output_type": "stream",
     "text": [
      "\r\n",
      "3it [00:08,  2.86s/it]"
     ]
    },
    {
     "name": "stdout",
     "output_type": "stream",
     "text": [
      "Image nr.: 2, produced: 884 tiles\n",
      "IMAGE - height: 1813, width: 1816, channels: 3\n",
      "MASK - height: 1813, width: 1816\n"
     ]
    },
    {
     "name": "stderr",
     "output_type": "stream",
     "text": [
      "\r\n",
      "4it [00:09,  2.15s/it]"
     ]
    },
    {
     "name": "stdout",
     "output_type": "stream",
     "text": [
      "Image nr.: 3, produced: 256 tiles\n",
      "IMAGE - height: 3169, width: 6275, channels: 3\n",
      "MASK - height: 3169, width: 6275\n"
     ]
    },
    {
     "name": "stderr",
     "output_type": "stream",
     "text": [
      "\r\n",
      "5it [00:15,  3.54s/it]"
     ]
    },
    {
     "name": "stdout",
     "output_type": "stream",
     "text": [
      "Image nr.: 4, produced: 1653 tiles\n",
      "IMAGE - height: 3230, width: 4207, channels: 3\n",
      "MASK - height: 3230, width: 4207\n"
     ]
    },
    {
     "name": "stderr",
     "output_type": "stream",
     "text": [
      "\r\n",
      "6it [00:21,  4.43s/it]"
     ]
    },
    {
     "name": "stdout",
     "output_type": "stream",
     "text": [
      "Image nr.: 5, produced: 1102 tiles\n",
      "IMAGE - height: 6813, width: 7360, channels: 3\n",
      "MASK - height: 6813, width: 7360\n"
     ]
    },
    {
     "name": "stderr",
     "output_type": "stream",
     "text": [
      "\r\n",
      "7it [00:40,  9.37s/it]"
     ]
    },
    {
     "name": "stdout",
     "output_type": "stream",
     "text": [
      "Image nr.: 6, produced: 4154 tiles\n",
      "IMAGE - height: 2418, width: 3391, channels: 3\n",
      "MASK - height: 2418, width: 3391\n"
     ]
    },
    {
     "name": "stderr",
     "output_type": "stream",
     "text": [
      "\r\n",
      "8it [00:44,  7.58s/it]"
     ]
    },
    {
     "name": "stdout",
     "output_type": "stream",
     "text": [
      "Image nr.: 7, produced: 682 tiles\n",
      "IMAGE - height: 4626, width: 5398, channels: 3\n",
      "MASK - height: 4626, width: 5398\n"
     ]
    },
    {
     "name": "stderr",
     "output_type": "stream",
     "text": [
      "\r\n",
      "9it [00:55,  8.47s/it]"
     ]
    },
    {
     "name": "stdout",
     "output_type": "stream",
     "text": [
      "Image nr.: 8, produced: 2058 tiles\n",
      "IMAGE - height: 4196, width: 2756, channels: 3\n",
      "MASK - height: 4196, width: 2756\n"
     ]
    },
    {
     "name": "stderr",
     "output_type": "stream",
     "text": [
      "\r\n",
      "10it [00:59,  7.29s/it]"
     ]
    },
    {
     "name": "stdout",
     "output_type": "stream",
     "text": [
      "Image nr.: 9, produced: 950 tiles\n",
      "IMAGE - height: 2496, width: 4035, channels: 3\n",
      "MASK - height: 2496, width: 4035\n"
     ]
    },
    {
     "name": "stderr",
     "output_type": "stream",
     "text": [
      "\r\n",
      "11it [01:06,  6.98s/it]"
     ]
    },
    {
     "name": "stdout",
     "output_type": "stream",
     "text": [
      "Image nr.: 10, produced: 814 tiles\n",
      "IMAGE - height: 3164, width: 5132, channels: 3\n",
      "MASK - height: 3164, width: 5132\n"
     ]
    },
    {
     "name": "stderr",
     "output_type": "stream",
     "text": [
      "\r\n",
      "12it [01:11,  6.52s/it]"
     ]
    },
    {
     "name": "stdout",
     "output_type": "stream",
     "text": [
      "Image nr.: 11, produced: 1363 tiles\n",
      "IMAGE - height: 3836, width: 3793, channels: 3\n",
      "MASK - height: 3836, width: 3793\n"
     ]
    },
    {
     "name": "stderr",
     "output_type": "stream",
     "text": [
      "\r\n",
      "13it [01:20,  7.25s/it]"
     ]
    },
    {
     "name": "stdout",
     "output_type": "stream",
     "text": [
      "Image nr.: 12, produced: 1190 tiles\n",
      "IMAGE - height: 4071, width: 6479, channels: 3\n",
      "MASK - height: 4071, width: 6479\n"
     ]
    },
    {
     "name": "stderr",
     "output_type": "stream",
     "text": [
      "\r\n",
      "14it [01:32,  8.58s/it]"
     ]
    },
    {
     "name": "stdout",
     "output_type": "stream",
     "text": [
      "Image nr.: 13, produced: 2183 tiles\n",
      "IMAGE - height: 1991, width: 3626, channels: 3\n",
      "MASK - height: 1991, width: 3626\n"
     ]
    },
    {
     "name": "stderr",
     "output_type": "stream",
     "text": [
      "\r\n",
      "15it [01:34,  6.64s/it]"
     ]
    },
    {
     "name": "stdout",
     "output_type": "stream",
     "text": [
      "Image nr.: 14, produced: 594 tiles\n",
      "IMAGE - height: 3176, width: 5447, channels: 3\n",
      "MASK - height: 3176, width: 5447\n"
     ]
    },
    {
     "name": "stderr",
     "output_type": "stream",
     "text": [
      "\r\n",
      "16it [01:41,  6.91s/it]"
     ]
    },
    {
     "name": "stdout",
     "output_type": "stream",
     "text": [
      "Image nr.: 15, produced: 1450 tiles\n",
      "IMAGE - height: 2673, width: 4998, channels: 3\n",
      "MASK - height: 2673, width: 4998\n"
     ]
    },
    {
     "name": "stderr",
     "output_type": "stream",
     "text": [
      "\r\n",
      "17it [01:48,  6.84s/it]"
     ]
    },
    {
     "name": "stdout",
     "output_type": "stream",
     "text": [
      "Image nr.: 16, produced: 1104 tiles\n",
      "IMAGE - height: 2992, width: 4667, channels: 3\n",
      "MASK - height: 2992, width: 4667\n"
     ]
    },
    {
     "name": "stderr",
     "output_type": "stream",
     "text": [
      "\r\n",
      "18it [02:02,  9.02s/it]"
     ]
    },
    {
     "name": "stdout",
     "output_type": "stream",
     "text": [
      "Image nr.: 17, produced: 1161 tiles\n",
      "IMAGE - height: 2529, width: 3028, channels: 3\n",
      "MASK - height: 2529, width: 3028\n"
     ]
    },
    {
     "name": "stderr",
     "output_type": "stream",
     "text": [
      "\r\n",
      "19it [02:07,  7.75s/it]"
     ]
    },
    {
     "name": "stdout",
     "output_type": "stream",
     "text": [
      "Image nr.: 18, produced: 621 tiles\n",
      "IMAGE - height: 3662, width: 4017, channels: 3\n",
      "MASK - height: 3662, width: 4017\n"
     ]
    },
    {
     "name": "stderr",
     "output_type": "stream",
     "text": [
      "\r\n",
      "20it [02:18,  8.67s/it]"
     ]
    },
    {
     "name": "stdout",
     "output_type": "stream",
     "text": [
      "Image nr.: 19, produced: 1221 tiles\n",
      "IMAGE - height: 3917, width: 6862, channels: 3\n",
      "MASK - height: 3917, width: 6862\n"
     ]
    },
    {
     "name": "stderr",
     "output_type": "stream",
     "text": [
      "\r\n",
      "21it [02:36, 11.64s/it]"
     ]
    },
    {
     "name": "stdout",
     "output_type": "stream",
     "text": [
      "Image nr.: 20, produced: 2268 tiles\n",
      "IMAGE - height: 7128, width: 4874, channels: 3\n",
      "MASK - height: 7128, width: 4874\n"
     ]
    },
    {
     "name": "stderr",
     "output_type": "stream",
     "text": [
      "\r\n",
      "22it [03:06, 17.13s/it]"
     ]
    },
    {
     "name": "stdout",
     "output_type": "stream",
     "text": [
      "Image nr.: 21, produced: 2860 tiles\n",
      "IMAGE - height: 4915, width: 5515, channels: 3\n",
      "MASK - height: 4915, width: 5515\n"
     ]
    },
    {
     "name": "stderr",
     "output_type": "stream",
     "text": [
      "\r\n",
      "23it [03:23, 17.17s/it]"
     ]
    },
    {
     "name": "stdout",
     "output_type": "stream",
     "text": [
      "Image nr.: 22, produced: 2250 tiles\n",
      "IMAGE - height: 1484, width: 2842, channels: 3\n",
      "MASK - height: 1484, width: 2842\n"
     ]
    },
    {
     "name": "stderr",
     "output_type": "stream",
     "text": [
      "\r\n",
      "24it [03:26, 12.84s/it]"
     ]
    },
    {
     "name": "stdout",
     "output_type": "stream",
     "text": [
      "Image nr.: 23, produced: 338 tiles\n",
      "IMAGE - height: 2526, width: 3349, channels: 3\n",
      "MASK - height: 2526, width: 3349\n"
     ]
    },
    {
     "name": "stderr",
     "output_type": "stream",
     "text": [
      "\r\n",
      "25it [03:36, 11.87s/it]"
     ]
    },
    {
     "name": "stdout",
     "output_type": "stream",
     "text": [
      "Image nr.: 24, produced: 690 tiles\n",
      "IMAGE - height: 3093, width: 2059, channels: 3\n",
      "MASK - height: 3093, width: 2059\n"
     ]
    },
    {
     "name": "stderr",
     "output_type": "stream",
     "text": [
      "\r\n",
      "26it [03:39,  9.15s/it]"
     ]
    },
    {
     "name": "stdout",
     "output_type": "stream",
     "text": [
      "Image nr.: 25, produced: 504 tiles\n",
      "IMAGE - height: 1248, width: 1382, channels: 3\n",
      "MASK - height: 1248, width: 1382\n"
     ]
    },
    {
     "name": "stderr",
     "output_type": "stream",
     "text": [
      "\r\n",
      "27it [03:39,  6.63s/it]"
     ]
    },
    {
     "name": "stdout",
     "output_type": "stream",
     "text": [
      "Image nr.: 26, produced: 132 tiles\n",
      "IMAGE - height: 2652, width: 3891, channels: 3\n",
      "MASK - height: 2652, width: 3891\n"
     ]
    },
    {
     "name": "stderr",
     "output_type": "stream",
     "text": [
      "\r\n",
      "28it [03:45,  6.31s/it]"
     ]
    },
    {
     "name": "stdout",
     "output_type": "stream",
     "text": [
      "Image nr.: 27, produced: 840 tiles\n",
      "IMAGE - height: 3050, width: 4518, channels: 3\n",
      "MASK - height: 3050, width: 4518\n"
     ]
    },
    {
     "name": "stderr",
     "output_type": "stream",
     "text": [
      "\r\n",
      "29it [03:55,  7.47s/it]"
     ]
    },
    {
     "name": "stdout",
     "output_type": "stream",
     "text": [
      "Image nr.: 28, produced: 1148 tiles\n",
      "IMAGE - height: 3146, width: 3109, channels: 3\n",
      "MASK - height: 3146, width: 3109\n"
     ]
    },
    {
     "name": "stderr",
     "output_type": "stream",
     "text": [
      "\r\n",
      "30it [04:00,  6.84s/it]"
     ]
    },
    {
     "name": "stdout",
     "output_type": "stream",
     "text": [
      "Image nr.: 29, produced: 784 tiles\n",
      "IMAGE - height: 2238, width: 2893, channels: 3\n",
      "MASK - height: 2238, width: 2893\n"
     ]
    },
    {
     "name": "stderr",
     "output_type": "stream",
     "text": [
      "\r\n",
      "31it [04:04,  5.99s/it]"
     ]
    },
    {
     "name": "stdout",
     "output_type": "stream",
     "text": [
      "Image nr.: 30, produced: 520 tiles\n",
      "IMAGE - height: 2957, width: 3572, channels: 3\n",
      "MASK - height: 2957, width: 3572\n"
     ]
    },
    {
     "name": "stderr",
     "output_type": "stream",
     "text": [
      "\r\n",
      "32it [04:09,  5.46s/it]"
     ]
    },
    {
     "name": "stdout",
     "output_type": "stream",
     "text": [
      "Image nr.: 31, produced: 864 tiles\n",
      "IMAGE - height: 2504, width: 4877, channels: 3\n",
      "MASK - height: 2504, width: 4877\n"
     ]
    },
    {
     "name": "stderr",
     "output_type": "stream",
     "text": [
      "\r\n",
      "33it [04:36, 12.07s/it]"
     ]
    },
    {
     "name": "stdout",
     "output_type": "stream",
     "text": [
      "Image nr.: 32, produced: 1012 tiles\n",
      "IMAGE - height: 2571, width: 3442, channels: 3\n",
      "MASK - height: 2571, width: 3442\n"
     ]
    },
    {
     "name": "stderr",
     "output_type": "stream",
     "text": [
      "\r\n",
      "34it [04:40,  9.47s/it]"
     ]
    },
    {
     "name": "stdout",
     "output_type": "stream",
     "text": [
      "Image nr.: 33, produced: 713 tiles\n",
      "IMAGE - height: 3166, width: 3557, channels: 3\n",
      "MASK - height: 3166, width: 3557\n"
     ]
    },
    {
     "name": "stderr",
     "output_type": "stream",
     "text": [
      "\r\n",
      "35it [05:05, 14.40s/it]"
     ]
    },
    {
     "name": "stdout",
     "output_type": "stream",
     "text": [
      "Image nr.: 34, produced: 928 tiles\n",
      "IMAGE - height: 2582, width: 3289, channels: 3\n",
      "MASK - height: 2582, width: 3289\n"
     ]
    },
    {
     "name": "stderr",
     "output_type": "stream",
     "text": [
      "\r\n",
      "36it [05:21, 14.77s/it]"
     ]
    },
    {
     "name": "stdout",
     "output_type": "stream",
     "text": [
      "Image nr.: 35, produced: 690 tiles\n",
      "IMAGE - height: 4851, width: 4960, channels: 3\n",
      "MASK - height: 4851, width: 4960\n"
     ]
    },
    {
     "name": "stderr",
     "output_type": "stream",
     "text": [
      "\r\n",
      "37it [05:40, 15.87s/it]"
     ]
    },
    {
     "name": "stdout",
     "output_type": "stream",
     "text": [
      "Image nr.: 36, produced: 1980 tiles\n",
      "IMAGE - height: 4607, width: 2114, channels: 3\n",
      "MASK - height: 4607, width: 2114\n"
     ]
    },
    {
     "name": "stderr",
     "output_type": "stream",
     "text": [
      "\r\n",
      "38it [05:49, 13.84s/it]"
     ]
    },
    {
     "name": "stdout",
     "output_type": "stream",
     "text": [
      "Image nr.: 37, produced: 798 tiles\n",
      "IMAGE - height: 3215, width: 2135, channels: 3\n",
      "MASK - height: 3215, width: 2135\n"
     ]
    },
    {
     "name": "stderr",
     "output_type": "stream",
     "text": [
      "\r\n",
      "39it [06:04, 14.21s/it]"
     ]
    },
    {
     "name": "stdout",
     "output_type": "stream",
     "text": [
      "Image nr.: 38, produced: 551 tiles\n",
      "IMAGE - height: 3711, width: 4109, channels: 3\n",
      "MASK - height: 3711, width: 4109\n"
     ]
    },
    {
     "name": "stderr",
     "output_type": "stream",
     "text": [
      "\r\n",
      "40it [06:36, 19.61s/it]"
     ]
    },
    {
     "name": "stdout",
     "output_type": "stream",
     "text": [
      "Image nr.: 39, produced: 1258 tiles\n",
      "IMAGE - height: 2458, width: 6150, channels: 3\n",
      "MASK - height: 2458, width: 6150\n"
     ]
    },
    {
     "name": "stderr",
     "output_type": "stream",
     "text": [
      "\r\n",
      "41it [06:49, 17.70s/it]"
     ]
    },
    {
     "name": "stdout",
     "output_type": "stream",
     "text": [
      "Image nr.: 40, produced: 1232 tiles\n",
      "IMAGE - height: 4917, width: 2782, channels: 3\n",
      "MASK - height: 4917, width: 2782\n"
     ]
    },
    {
     "name": "stderr",
     "output_type": "stream",
     "text": [
      "\r\n",
      "42it [07:03, 16.59s/it]"
     ]
    },
    {
     "name": "stdout",
     "output_type": "stream",
     "text": [
      "Image nr.: 41, produced: 1125 tiles\n",
      "IMAGE - height: 3369, width: 3071, channels: 3\n",
      "MASK - height: 3369, width: 3071\n"
     ]
    },
    {
     "name": "stderr",
     "output_type": "stream",
     "text": [
      "\r\n",
      "43it [07:25, 18.08s/it]"
     ]
    },
    {
     "name": "stdout",
     "output_type": "stream",
     "text": [
      "Image nr.: 42, produced: 868 tiles\n",
      "IMAGE - height: 3028, width: 3973, channels: 3\n",
      "MASK - height: 3028, width: 3973\n"
     ]
    },
    {
     "name": "stderr",
     "output_type": "stream",
     "text": [
      "\r\n",
      "44it [07:55, 21.62s/it]"
     ]
    },
    {
     "name": "stdout",
     "output_type": "stream",
     "text": [
      "Image nr.: 43, produced: 972 tiles\n",
      "IMAGE - height: 3644, width: 7211, channels: 3\n",
      "MASK - height: 3644, width: 7211\n"
     ]
    },
    {
     "name": "stderr",
     "output_type": "stream",
     "text": [
      "\r\n",
      "45it [08:04, 17.89s/it]"
     ]
    },
    {
     "name": "stdout",
     "output_type": "stream",
     "text": [
      "Image nr.: 44, produced: 2178 tiles\n",
      "IMAGE - height: 4459, width: 6163, channels: 3\n",
      "MASK - height: 4459, width: 6163\n"
     ]
    },
    {
     "name": "stderr",
     "output_type": "stream",
     "text": [
      "\r\n",
      "46it [08:17, 16.57s/it]"
     ]
    },
    {
     "name": "stdout",
     "output_type": "stream",
     "text": [
      "Image nr.: 45, produced: 2296 tiles\n",
      "IMAGE - height: 2812, width: 4093, channels: 3\n",
      "MASK - height: 2812, width: 4093\n"
     ]
    },
    {
     "name": "stderr",
     "output_type": "stream",
     "text": [
      "\r\n",
      "47it [08:23, 13.20s/it]"
     ]
    },
    {
     "name": "stdout",
     "output_type": "stream",
     "text": [
      "Image nr.: 46, produced: 925 tiles\n",
      "IMAGE - height: 3128, width: 6905, channels: 3\n",
      "MASK - height: 3128, width: 6905\n"
     ]
    },
    {
     "name": "stderr",
     "output_type": "stream",
     "text": [
      "\r\n",
      "48it [08:32, 12.12s/it]"
     ]
    },
    {
     "name": "stdout",
     "output_type": "stream",
     "text": [
      "Image nr.: 47, produced: 1764 tiles\n",
      "IMAGE - height: 3151, width: 5854, channels: 3\n",
      "MASK - height: 3151, width: 5854\n"
     ]
    },
    {
     "name": "stderr",
     "output_type": "stream",
     "text": [
      "\r\n",
      "49it [08:43, 11.79s/it]"
     ]
    },
    {
     "name": "stdout",
     "output_type": "stream",
     "text": [
      "Image nr.: 48, produced: 1512 tiles\n",
      "IMAGE - height: 3193, width: 2268, channels: 3\n",
      "MASK - height: 3193, width: 2268\n"
     ]
    },
    {
     "name": "stderr",
     "output_type": "stream",
     "text": [
      "\r\n",
      "50it [08:45,  8.78s/it]"
     ]
    },
    {
     "name": "stdout",
     "output_type": "stream",
     "text": [
      "Image nr.: 49, produced: 580 tiles\n",
      "IMAGE - height: 2422, width: 3001, channels: 3\n",
      "MASK - height: 2422, width: 3001\n"
     ]
    },
    {
     "name": "stderr",
     "output_type": "stream",
     "text": [
      "\r\n",
      "51it [08:54,  8.89s/it]"
     ]
    },
    {
     "name": "stdout",
     "output_type": "stream",
     "text": [
      "Image nr.: 50, produced: 594 tiles\n",
      "IMAGE - height: 3261, width: 7261, channels: 3\n",
      "MASK - height: 3261, width: 7261\n"
     ]
    },
    {
     "name": "stderr",
     "output_type": "stream",
     "text": [
      "\r\n",
      "52it [09:06,  9.77s/it]"
     ]
    },
    {
     "name": "stdout",
     "output_type": "stream",
     "text": [
      "Image nr.: 51, produced: 2010 tiles\n",
      "IMAGE - height: 2306, width: 5997, channels: 3\n",
      "MASK - height: 2306, width: 5997\n"
     ]
    },
    {
     "name": "stderr",
     "output_type": "stream",
     "text": [
      "\r\n",
      "53it [09:13,  8.84s/it]"
     ]
    },
    {
     "name": "stdout",
     "output_type": "stream",
     "text": [
      "Image nr.: 52, produced: 1155 tiles\n",
      "IMAGE - height: 3143, width: 6167, channels: 3\n",
      "MASK - height: 3143, width: 6167\n"
     ]
    },
    {
     "name": "stderr",
     "output_type": "stream",
     "text": [
      "\r\n",
      "54it [09:19,  8.26s/it]"
     ]
    },
    {
     "name": "stdout",
     "output_type": "stream",
     "text": [
      "Image nr.: 53, produced: 1568 tiles\n",
      "IMAGE - height: 2774, width: 2271, channels: 3\n",
      "MASK - height: 2774, width: 2271\n"
     ]
    },
    {
     "name": "stderr",
     "output_type": "stream",
     "text": [
      "\r\n",
      "55it [09:26,  7.75s/it]"
     ]
    },
    {
     "name": "stdout",
     "output_type": "stream",
     "text": [
      "Image nr.: 54, produced: 500 tiles\n",
      "IMAGE - height: 3188, width: 3045, channels: 3\n",
      "MASK - height: 3188, width: 3045\n"
     ]
    },
    {
     "name": "stderr",
     "output_type": "stream",
     "text": [
      "\r\n",
      "56it [09:28,  6.07s/it]"
     ]
    },
    {
     "name": "stdout",
     "output_type": "stream",
     "text": [
      "Image nr.: 55, produced: 812 tiles\n",
      "IMAGE - height: 2201, width: 5156, channels: 3\n",
      "MASK - height: 2201, width: 5156\n"
     ]
    },
    {
     "name": "stderr",
     "output_type": "stream",
     "text": [
      "\r\n",
      "57it [09:31,  4.99s/it]"
     ]
    },
    {
     "name": "stdout",
     "output_type": "stream",
     "text": [
      "Image nr.: 56, produced: 940 tiles\n",
      "IMAGE - height: 1990, width: 2576, channels: 3\n",
      "MASK - height: 1990, width: 2576\n"
     ]
    },
    {
     "name": "stderr",
     "output_type": "stream",
     "text": [
      "\r\n",
      "58it [09:34,  4.37s/it]"
     ]
    },
    {
     "name": "stdout",
     "output_type": "stream",
     "text": [
      "Image nr.: 57, produced: 414 tiles\n",
      "IMAGE - height: 1916, width: 3414, channels: 3\n",
      "MASK - height: 1916, width: 3414\n"
     ]
    },
    {
     "name": "stderr",
     "output_type": "stream",
     "text": [
      "\r\n",
      "59it [09:36,  3.87s/it]"
     ]
    },
    {
     "name": "stdout",
     "output_type": "stream",
     "text": [
      "Image nr.: 58, produced: 527 tiles\n",
      "IMAGE - height: 1921, width: 5505, channels: 3\n",
      "MASK - height: 1921, width: 5505\n"
     ]
    },
    {
     "name": "stderr",
     "output_type": "stream",
     "text": [
      "\r\n",
      "60it [09:42,  4.30s/it]"
     ]
    },
    {
     "name": "stdout",
     "output_type": "stream",
     "text": [
      "Image nr.: 59, produced: 850 tiles\n",
      "IMAGE - height: 2240, width: 2976, channels: 3\n",
      "MASK - height: 2240, width: 2976\n"
     ]
    },
    {
     "name": "stderr",
     "output_type": "stream",
     "text": [
      "\r\n",
      "61it [09:44,  3.82s/it]"
     ]
    },
    {
     "name": "stdout",
     "output_type": "stream",
     "text": [
      "Image nr.: 60, produced: 540 tiles\n",
      "IMAGE - height: 2431, width: 2649, channels: 3\n",
      "MASK - height: 2431, width: 2649\n"
     ]
    },
    {
     "name": "stderr",
     "output_type": "stream",
     "text": [
      "\r\n",
      "62it [09:46,  3.08s/it]"
     ]
    },
    {
     "name": "stdout",
     "output_type": "stream",
     "text": [
      "Image nr.: 61, produced: 528 tiles\n",
      "IMAGE - height: 3199, width: 5061, channels: 3\n",
      "MASK - height: 3199, width: 5061\n"
     ]
    },
    {
     "name": "stderr",
     "output_type": "stream",
     "text": [
      "\r\n",
      "63it [09:56,  5.21s/it]"
     ]
    },
    {
     "name": "stdout",
     "output_type": "stream",
     "text": [
      "Image nr.: 62, produced: 1334 tiles\n",
      "IMAGE - height: 1806, width: 2624, channels: 3\n",
      "MASK - height: 1806, width: 2624\n"
     ]
    },
    {
     "name": "stderr",
     "output_type": "stream",
     "text": [
      "\r\n",
      "64it [09:58,  4.19s/it]"
     ]
    },
    {
     "name": "stdout",
     "output_type": "stream",
     "text": [
      "Image nr.: 63, produced: 384 tiles\n",
      "IMAGE - height: 2170, width: 2308, channels: 3\n",
      "MASK - height: 2170, width: 2308\n"
     ]
    },
    {
     "name": "stderr",
     "output_type": "stream",
     "text": [
      "\r\n",
      "65it [10:00,  3.53s/it]"
     ]
    },
    {
     "name": "stdout",
     "output_type": "stream",
     "text": [
      "Image nr.: 64, produced: 399 tiles\n",
      "IMAGE - height: 3134, width: 4407, channels: 3\n",
      "MASK - height: 3134, width: 4407\n"
     ]
    },
    {
     "name": "stderr",
     "output_type": "stream",
     "text": [
      "\r\n",
      "66it [10:06,  4.46s/it]"
     ]
    },
    {
     "name": "stdout",
     "output_type": "stream",
     "text": [
      "Image nr.: 65, produced: 1120 tiles\n",
      "IMAGE - height: 1845, width: 2367, channels: 3\n",
      "MASK - height: 1845, width: 2367\n"
     ]
    },
    {
     "name": "stderr",
     "output_type": "stream",
     "text": [
      "\r\n",
      "67it [10:08,  3.71s/it]"
     ]
    },
    {
     "name": "stdout",
     "output_type": "stream",
     "text": [
      "Image nr.: 66, produced: 336 tiles\n",
      "IMAGE - height: 3876, width: 3816, channels: 3\n",
      "MASK - height: 3876, width: 3816\n"
     ]
    },
    {
     "name": "stderr",
     "output_type": "stream",
     "text": [
      "\r\n",
      "68it [10:17,  5.11s/it]"
     ]
    },
    {
     "name": "stdout",
     "output_type": "stream",
     "text": [
      "Image nr.: 67, produced: 1225 tiles\n",
      "IMAGE - height: 2782, width: 3767, channels: 3\n",
      "MASK - height: 2782, width: 3767\n"
     ]
    },
    {
     "name": "stderr",
     "output_type": "stream",
     "text": [
      "\r\n",
      "69it [10:19,  4.27s/it]"
     ]
    },
    {
     "name": "stdout",
     "output_type": "stream",
     "text": [
      "Image nr.: 68, produced: 850 tiles\n",
      "IMAGE - height: 2233, width: 4955, channels: 3\n",
      "MASK - height: 2233, width: 4955\n"
     ]
    },
    {
     "name": "stderr",
     "output_type": "stream",
     "text": [
      "\r\n",
      "70it [10:25,  4.88s/it]"
     ]
    },
    {
     "name": "stdout",
     "output_type": "stream",
     "text": [
      "Image nr.: 69, produced: 900 tiles\n",
      "IMAGE - height: 6549, width: 5842, channels: 3\n",
      "MASK - height: 6549, width: 5842\n"
     ]
    },
    {
     "name": "stderr",
     "output_type": "stream",
     "text": [
      "\r\n",
      "71it [10:40,  7.89s/it]"
     ]
    },
    {
     "name": "stdout",
     "output_type": "stream",
     "text": [
      "Image nr.: 70, produced: 3180 tiles\n",
      "IMAGE - height: 5140, width: 2410, channels: 3\n",
      "MASK - height: 5140, width: 2410\n"
     ]
    },
    {
     "name": "stderr",
     "output_type": "stream",
     "text": [
      "\r\n",
      "72it [10:45,  7.12s/it]"
     ]
    },
    {
     "name": "stdout",
     "output_type": "stream",
     "text": [
      "Image nr.: 71, produced: 1034 tiles\n",
      "IMAGE - height: 2509, width: 4951, channels: 3\n",
      "MASK - height: 2509, width: 4951\n"
     ]
    },
    {
     "name": "stderr",
     "output_type": "stream",
     "text": [
      "\r\n",
      "73it [10:48,  5.87s/it]"
     ]
    },
    {
     "name": "stdout",
     "output_type": "stream",
     "text": [
      "Image nr.: 72, produced: 1035 tiles\n",
      "IMAGE - height: 4938, width: 3291, channels: 3\n",
      "MASK - height: 4938, width: 3291\n"
     ]
    },
    {
     "name": "stderr",
     "output_type": "stream",
     "text": [
      "\r\n",
      "74it [10:58,  7.11s/it]"
     ]
    },
    {
     "name": "stdout",
     "output_type": "stream",
     "text": [
      "Image nr.: 73, produced: 1350 tiles\n",
      "IMAGE - height: 4753, width: 4893, channels: 3\n",
      "MASK - height: 4753, width: 4893\n"
     ]
    },
    {
     "name": "stderr",
     "output_type": "stream",
     "text": [
      "\r\n",
      "75it [11:09,  8.05s/it]"
     ]
    },
    {
     "name": "stdout",
     "output_type": "stream",
     "text": [
      "Image nr.: 74, produced: 1935 tiles\n",
      "IMAGE - height: 3870, width: 7249, channels: 3\n",
      "MASK - height: 3870, width: 7249\n"
     ]
    },
    {
     "name": "stderr",
     "output_type": "stream",
     "text": [
      "\r\n",
      "76it [11:21,  9.40s/it]"
     ]
    },
    {
     "name": "stdout",
     "output_type": "stream",
     "text": [
      "Image nr.: 75, produced: 2310 tiles\n",
      "IMAGE - height: 3218, width: 5703, channels: 3\n",
      "MASK - height: 3218, width: 5703\n"
     ]
    },
    {
     "name": "stderr",
     "output_type": "stream",
     "text": [
      "\r\n",
      "77it [11:34, 10.28s/it]"
     ]
    },
    {
     "name": "stdout",
     "output_type": "stream",
     "text": [
      "Image nr.: 76, produced: 1508 tiles\n",
      "IMAGE - height: 7717, width: 7575, channels: 3\n",
      "MASK - height: 7717, width: 7575\n"
     ]
    },
    {
     "name": "stderr",
     "output_type": "stream",
     "text": [
      "\r\n",
      "78it [11:59, 14.87s/it]"
     ]
    },
    {
     "name": "stdout",
     "output_type": "stream",
     "text": [
      "Image nr.: 77, produced: 4899 tiles\n",
      "IMAGE - height: 4827, width: 1444, channels: 3\n",
      "MASK - height: 4827, width: 1444\n"
     ]
    },
    {
     "name": "stderr",
     "output_type": "stream",
     "text": [
      "\r\n",
      "79it [12:03, 11.57s/it]"
     ]
    },
    {
     "name": "stdout",
     "output_type": "stream",
     "text": [
      "Image nr.: 78, produced: 572 tiles\n",
      "IMAGE - height: 4675, width: 5792, channels: 3\n",
      "MASK - height: 4675, width: 5792\n"
     ]
    },
    {
     "name": "stderr",
     "output_type": "stream",
     "text": [
      "\r\n",
      "80it [12:13, 11.14s/it]"
     ]
    },
    {
     "name": "stdout",
     "output_type": "stream",
     "text": [
      "Image nr.: 79, produced: 2279 tiles\n",
      "IMAGE - height: 3161, width: 4495, channels: 3\n",
      "MASK - height: 3161, width: 4495\n"
     ]
    },
    {
     "name": "stderr",
     "output_type": "stream",
     "text": [
      "\r\n",
      "81it [12:23, 10.65s/it]"
     ]
    },
    {
     "name": "stdout",
     "output_type": "stream",
     "text": [
      "Image nr.: 80, produced: 1189 tiles\n",
      "IMAGE - height: 3931, width: 5079, channels: 3\n",
      "MASK - height: 3931, width: 5079\n"
     ]
    },
    {
     "name": "stderr",
     "output_type": "stream",
     "text": [
      "\r\n",
      "82it [12:34, 10.75s/it]"
     ]
    },
    {
     "name": "stdout",
     "output_type": "stream",
     "text": [
      "Image nr.: 81, produced: 1656 tiles\n",
      "IMAGE - height: 3495, width: 5816, channels: 3\n",
      "MASK - height: 3495, width: 5816\n"
     ]
    },
    {
     "name": "stderr",
     "output_type": "stream",
     "text": [
      "\r\n",
      "83it [12:41,  9.61s/it]"
     ]
    },
    {
     "name": "stdout",
     "output_type": "stream",
     "text": [
      "Image nr.: 82, produced: 1696 tiles\n",
      "IMAGE - height: 1065, width: 1917, channels: 3\n",
      "MASK - height: 1065, width: 1917\n"
     ]
    },
    {
     "name": "stderr",
     "output_type": "stream",
     "text": [
      "\r\n",
      "84it [12:41,  6.91s/it]"
     ]
    },
    {
     "name": "stdout",
     "output_type": "stream",
     "text": [
      "Image nr.: 83, produced: 153 tiles\n",
      "IMAGE - height: 3924, width: 6313, channels: 3\n",
      "MASK - height: 3924, width: 6313\n"
     ]
    },
    {
     "name": "stderr",
     "output_type": "stream",
     "text": [
      "\r\n",
      "85it [12:56,  9.36s/it]"
     ]
    },
    {
     "name": "stdout",
     "output_type": "stream",
     "text": [
      "Image nr.: 84, produced: 2088 tiles\n",
      "IMAGE - height: 2207, width: 2618, channels: 3\n",
      "MASK - height: 2207, width: 2618\n"
     ]
    },
    {
     "name": "stderr",
     "output_type": "stream",
     "text": [
      "\r\n",
      "86it [12:58,  7.05s/it]"
     ]
    },
    {
     "name": "stdout",
     "output_type": "stream",
     "text": [
      "Image nr.: 85, produced: 480 tiles\n",
      "IMAGE - height: 2853, width: 4438, channels: 3\n",
      "MASK - height: 2853, width: 4438\n"
     ]
    },
    {
     "name": "stderr",
     "output_type": "stream",
     "text": [
      "\r\n",
      "87it [13:04,  6.68s/it]"
     ]
    },
    {
     "name": "stdout",
     "output_type": "stream",
     "text": [
      "Image nr.: 86, produced: 1040 tiles\n",
      "IMAGE - height: 6774, width: 5012, channels: 3\n",
      "MASK - height: 6774, width: 5012\n"
     ]
    },
    {
     "name": "stderr",
     "output_type": "stream",
     "text": [
      "\r\n",
      "88it [13:25, 10.93s/it]"
     ]
    },
    {
     "name": "stdout",
     "output_type": "stream",
     "text": [
      "Image nr.: 87, produced: 2852 tiles\n",
      "IMAGE - height: 4347, width: 5074, channels: 3\n",
      "MASK - height: 4347, width: 5074\n"
     ]
    },
    {
     "name": "stderr",
     "output_type": "stream",
     "text": [
      "\r\n",
      "89it [13:33, 10.06s/it]"
     ]
    },
    {
     "name": "stdout",
     "output_type": "stream",
     "text": [
      "Image nr.: 88, produced: 1840 tiles\n",
      "IMAGE - height: 2911, width: 8774, channels: 3\n",
      "MASK - height: 2911, width: 8774\n"
     ]
    },
    {
     "name": "stderr",
     "output_type": "stream",
     "text": [
      "\r\n",
      "90it [13:49, 12.02s/it]"
     ]
    },
    {
     "name": "stdout",
     "output_type": "stream",
     "text": [
      "Image nr.: 89, produced: 2106 tiles\n",
      "IMAGE - height: 6487, width: 2438, channels: 3\n",
      "MASK - height: 6487, width: 2438\n"
     ]
    },
    {
     "name": "stderr",
     "output_type": "stream",
     "text": [
      "\r\n",
      "91it [13:55, 10.14s/it]"
     ]
    },
    {
     "name": "stdout",
     "output_type": "stream",
     "text": [
      "Image nr.: 90, produced: 1298 tiles\n",
      "IMAGE - height: 4445, width: 6727, channels: 3\n",
      "MASK - height: 4445, width: 6727\n"
     ]
    },
    {
     "name": "stderr",
     "output_type": "stream",
     "text": [
      "\r\n",
      "92it [14:08, 11.13s/it]"
     ]
    },
    {
     "name": "stdout",
     "output_type": "stream",
     "text": [
      "Image nr.: 91, produced: 2480 tiles\n",
      "IMAGE - height: 9248, width: 9335, channels: 3\n",
      "MASK - height: 9248, width: 9335\n"
     ]
    },
    {
     "name": "stderr",
     "output_type": "stream",
     "text": [
      "\r\n",
      "93it [14:56, 22.14s/it]"
     ]
    },
    {
     "name": "stdout",
     "output_type": "stream",
     "text": [
      "Image nr.: 92, produced: 7310 tiles\n",
      "IMAGE - height: 4733, width: 6162, channels: 3\n",
      "MASK - height: 4733, width: 6162\n"
     ]
    },
    {
     "name": "stderr",
     "output_type": "stream",
     "text": [
      "\r\n",
      "94it [15:16, 21.55s/it]"
     ]
    },
    {
     "name": "stdout",
     "output_type": "stream",
     "text": [
      "Image nr.: 93, produced: 2408 tiles\n",
      "IMAGE - height: 2260, width: 2545, channels: 3\n",
      "MASK - height: 2260, width: 2545\n"
     ]
    },
    {
     "name": "stderr",
     "output_type": "stream",
     "text": [
      "\r\n",
      "95it [15:18, 15.51s/it]"
     ]
    },
    {
     "name": "stdout",
     "output_type": "stream",
     "text": [
      "Image nr.: 94, produced: 460 tiles\n",
      "IMAGE - height: 4026, width: 4154, channels: 3\n",
      "MASK - height: 4026, width: 4154\n"
     ]
    },
    {
     "name": "stderr",
     "output_type": "stream",
     "text": [
      "\r\n",
      "96it [15:29, 14.15s/it]"
     ]
    },
    {
     "name": "stdout",
     "output_type": "stream",
     "text": [
      "Image nr.: 95, produced: 1406 tiles\n",
      "IMAGE - height: 6941, width: 5342, channels: 3\n",
      "MASK - height: 6941, width: 5342\n"
     ]
    },
    {
     "name": "stderr",
     "output_type": "stream",
     "text": [
      "\r\n",
      "97it [15:42, 13.95s/it]"
     ]
    },
    {
     "name": "stdout",
     "output_type": "stream",
     "text": [
      "Image nr.: 96, produced: 3136 tiles\n",
      "IMAGE - height: 6498, width: 9801, channels: 3\n",
      "MASK - height: 6498, width: 9801\n"
     ]
    },
    {
     "name": "stderr",
     "output_type": "stream",
     "text": [
      "\r\n",
      "98it [16:22, 21.56s/it]"
     ]
    },
    {
     "name": "stdout",
     "output_type": "stream",
     "text": [
      "Image nr.: 97, produced: 5310 tiles\n",
      "IMAGE - height: 2400, width: 2971, channels: 3\n",
      "MASK - height: 2400, width: 2971\n"
     ]
    },
    {
     "name": "stderr",
     "output_type": "stream",
     "text": [
      "\r\n",
      "99it [16:28, 17.05s/it]"
     ]
    },
    {
     "name": "stdout",
     "output_type": "stream",
     "text": [
      "Image nr.: 98, produced: 594 tiles\n",
      "IMAGE - height: 4463, width: 5155, channels: 3\n",
      "MASK - height: 4463, width: 5155\n"
     ]
    },
    {
     "name": "stderr",
     "output_type": "stream",
     "text": [
      "\r\n",
      "100it [16:34, 13.56s/it]"
     ]
    },
    {
     "name": "stdout",
     "output_type": "stream",
     "text": [
      "Image nr.: 99, produced: 1927 tiles\n",
      "IMAGE - height: 5321, width: 3832, channels: 3\n",
      "MASK - height: 5321, width: 3832\n"
     ]
    },
    {
     "name": "stderr",
     "output_type": "stream",
     "text": [
      "\r\n",
      "101it [16:43, 12.46s/it]"
     ]
    },
    {
     "name": "stdout",
     "output_type": "stream",
     "text": [
      "Image nr.: 100, produced: 1715 tiles\n",
      "IMAGE - height: 3011, width: 2783, channels: 3\n",
      "MASK - height: 3011, width: 2783\n"
     ]
    },
    {
     "name": "stderr",
     "output_type": "stream",
     "text": [
      "\r\n",
      "102it [16:55, 12.09s/it]"
     ]
    },
    {
     "name": "stdout",
     "output_type": "stream",
     "text": [
      "Image nr.: 101, produced: 675 tiles\n",
      "IMAGE - height: 4408, width: 5384, channels: 3\n",
      "MASK - height: 4408, width: 5384\n"
     ]
    },
    {
     "name": "stderr",
     "output_type": "stream",
     "text": [
      "\r\n",
      "103it [17:17, 15.17s/it]"
     ]
    },
    {
     "name": "stdout",
     "output_type": "stream",
     "text": [
      "Image nr.: 102, produced: 1960 tiles\n",
      "IMAGE - height: 4301, width: 6689, channels: 3\n",
      "MASK - height: 4301, width: 6689\n"
     ]
    },
    {
     "name": "stderr",
     "output_type": "stream",
     "text": [
      "\r\n",
      "104it [17:37, 16.59s/it]"
     ]
    },
    {
     "name": "stdout",
     "output_type": "stream",
     "text": [
      "Image nr.: 103, produced: 2379 tiles\n",
      "IMAGE - height: 2191, width: 2227, channels: 3\n",
      "MASK - height: 2191, width: 2227\n"
     ]
    },
    {
     "name": "stderr",
     "output_type": "stream",
     "text": [
      "\r\n",
      "105it [17:38, 11.95s/it]"
     ]
    },
    {
     "name": "stdout",
     "output_type": "stream",
     "text": [
      "Image nr.: 104, produced: 400 tiles\n",
      "IMAGE - height: 4740, width: 4101, channels: 3\n",
      "MASK - height: 4740, width: 4101\n"
     ]
    },
    {
     "name": "stderr",
     "output_type": "stream",
     "text": [
      "\r\n",
      "106it [17:49, 11.78s/it]"
     ]
    },
    {
     "name": "stdout",
     "output_type": "stream",
     "text": [
      "Image nr.: 105, produced: 1591 tiles\n",
      "IMAGE - height: 3162, width: 4042, channels: 3\n",
      "MASK - height: 3162, width: 4042\n"
     ]
    },
    {
     "name": "stderr",
     "output_type": "stream",
     "text": [
      "\r\n",
      "107it [17:58, 10.84s/it]"
     ]
    },
    {
     "name": "stdout",
     "output_type": "stream",
     "text": [
      "Image nr.: 106, produced: 1073 tiles\n",
      "IMAGE - height: 2129, width: 3145, channels: 3\n",
      "MASK - height: 2129, width: 3145\n"
     ]
    },
    {
     "name": "stderr",
     "output_type": "stream",
     "text": [
      "\r\n",
      "108it [18:03,  9.06s/it]"
     ]
    },
    {
     "name": "stdout",
     "output_type": "stream",
     "text": [
      "Image nr.: 107, produced: 532 tiles\n",
      "IMAGE - height: 3623, width: 6295, channels: 3\n",
      "MASK - height: 3623, width: 6295\n"
     ]
    },
    {
     "name": "stderr",
     "output_type": "stream",
     "text": [
      "\r\n",
      "109it [18:19, 11.19s/it]"
     ]
    },
    {
     "name": "stdout",
     "output_type": "stream",
     "text": [
      "Image nr.: 108, produced: 1914 tiles\n",
      "IMAGE - height: 3047, width: 2709, channels: 3\n",
      "MASK - height: 3047, width: 2709\n"
     ]
    },
    {
     "name": "stderr",
     "output_type": "stream",
     "text": [
      "\r\n",
      "110it [18:21,  8.35s/it]"
     ]
    },
    {
     "name": "stdout",
     "output_type": "stream",
     "text": [
      "Image nr.: 109, produced: 672 tiles\n",
      "IMAGE - height: 5150, width: 5047, channels: 3\n",
      "MASK - height: 5150, width: 5047\n"
     ]
    },
    {
     "name": "stderr",
     "output_type": "stream",
     "text": [
      "\r\n",
      "111it [18:39, 11.29s/it]"
     ]
    },
    {
     "name": "stdout",
     "output_type": "stream",
     "text": [
      "Image nr.: 110, produced: 2162 tiles\n",
      "IMAGE - height: 4592, width: 6207, channels: 3\n",
      "MASK - height: 4592, width: 6207\n"
     ]
    },
    {
     "name": "stderr",
     "output_type": "stream",
     "text": [
      "\r\n",
      "112it [18:53, 12.09s/it]"
     ]
    },
    {
     "name": "stdout",
     "output_type": "stream",
     "text": [
      "Image nr.: 111, produced: 2394 tiles\n",
      "IMAGE - height: 3147, width: 3257, channels: 3\n",
      "MASK - height: 3147, width: 3257\n"
     ]
    },
    {
     "name": "stderr",
     "output_type": "stream",
     "text": [
      "\r\n",
      "113it [18:59, 10.14s/it]"
     ]
    },
    {
     "name": "stdout",
     "output_type": "stream",
     "text": [
      "Image nr.: 112, produced: 812 tiles\n",
      "IMAGE - height: 5415, width: 6324, channels: 3\n",
      "MASK - height: 5415, width: 6324\n"
     ]
    },
    {
     "name": "stderr",
     "output_type": "stream",
     "text": [
      "\r\n",
      "114it [19:26, 15.32s/it]"
     ]
    },
    {
     "name": "stdout",
     "output_type": "stream",
     "text": [
      "Image nr.: 113, produced: 2842 tiles\n",
      "IMAGE - height: 6536, width: 5003, channels: 3\n",
      "MASK - height: 6536, width: 5003\n"
     ]
    },
    {
     "name": "stderr",
     "output_type": "stream",
     "text": [
      "\r\n",
      "115it [19:39, 14.60s/it]"
     ]
    },
    {
     "name": "stdout",
     "output_type": "stream",
     "text": [
      "Image nr.: 114, produced: 2760 tiles\n",
      "IMAGE - height: 3311, width: 3215, channels: 3\n",
      "MASK - height: 3311, width: 3215\n"
     ]
    },
    {
     "name": "stderr",
     "output_type": "stream",
     "text": [
      "\r\n",
      "116it [19:41, 10.94s/it]"
     ]
    },
    {
     "name": "stdout",
     "output_type": "stream",
     "text": [
      "Image nr.: 115, produced: 870 tiles\n",
      "IMAGE - height: 2342, width: 2628, channels: 3\n",
      "MASK - height: 2342, width: 2628\n"
     ]
    },
    {
     "name": "stderr",
     "output_type": "stream",
     "text": [
      "\r\n",
      "117it [19:50, 10.35s/it]"
     ]
    },
    {
     "name": "stdout",
     "output_type": "stream",
     "text": [
      "Image nr.: 116, produced: 504 tiles\n",
      "IMAGE - height: 2619, width: 3654, channels: 3\n",
      "MASK - height: 2619, width: 3654\n"
     ]
    },
    {
     "name": "stderr",
     "output_type": "stream",
     "text": [
      "\r\n",
      "118it [19:58,  9.46s/it]"
     ]
    },
    {
     "name": "stdout",
     "output_type": "stream",
     "text": [
      "Image nr.: 117, produced: 792 tiles\n",
      "IMAGE - height: 4502, width: 4274, channels: 3\n",
      "MASK - height: 4502, width: 4274\n"
     ]
    },
    {
     "name": "stderr",
     "output_type": "stream",
     "text": [
      "\r\n",
      "119it [20:08,  9.80s/it]"
     ]
    },
    {
     "name": "stdout",
     "output_type": "stream",
     "text": [
      "Image nr.: 118, produced: 1599 tiles\n",
      "IMAGE - height: 8414, width: 4404, channels: 3\n",
      "MASK - height: 8414, width: 4404\n"
     ]
    },
    {
     "name": "stderr",
     "output_type": "stream",
     "text": [
      "\r\n",
      "120it [20:36, 15.29s/it]"
     ]
    },
    {
     "name": "stdout",
     "output_type": "stream",
     "text": [
      "Image nr.: 119, produced: 3080 tiles\n",
      "IMAGE - height: 8898, width: 6266, channels: 3\n",
      "MASK - height: 8898, width: 6266\n"
     ]
    },
    {
     "name": "stderr",
     "output_type": "stream",
     "text": [
      "\r\n",
      "121it [21:22, 24.55s/it]"
     ]
    },
    {
     "name": "stdout",
     "output_type": "stream",
     "text": [
      "Image nr.: 120, produced: 4674 tiles\n",
      "IMAGE - height: 7333, width: 6824, channels: 3\n",
      "MASK - height: 7333, width: 6824\n"
     ]
    },
    {
     "name": "stderr",
     "output_type": "stream",
     "text": [
      "\r\n",
      "122it [22:02, 29.18s/it]"
     ]
    },
    {
     "name": "stdout",
     "output_type": "stream",
     "text": [
      "Image nr.: 121, produced: 4221 tiles\n",
      "IMAGE - height: 3908, width: 4367, channels: 3\n",
      "MASK - height: 3908, width: 4367\n"
     ]
    },
    {
     "name": "stderr",
     "output_type": "stream",
     "text": [
      "\r\n",
      "123it [22:20, 25.60s/it]"
     ]
    },
    {
     "name": "stdout",
     "output_type": "stream",
     "text": [
      "Image nr.: 122, produced: 1440 tiles\n",
      "IMAGE - height: 3474, width: 4221, channels: 3\n",
      "MASK - height: 3474, width: 4221\n"
     ]
    },
    {
     "name": "stderr",
     "output_type": "stream",
     "text": [
      "\r\n",
      "124it [22:33, 21.96s/it]"
     ]
    },
    {
     "name": "stdout",
     "output_type": "stream",
     "text": [
      "Image nr.: 123, produced: 1178 tiles\n",
      "IMAGE - height: 4133, width: 2967, channels: 3\n",
      "MASK - height: 4133, width: 2967\n"
     ]
    },
    {
     "name": "stderr",
     "output_type": "stream",
     "text": [
      "\r\n",
      "125it [22:36, 16.18s/it]"
     ]
    },
    {
     "name": "stdout",
     "output_type": "stream",
     "text": [
      "Image nr.: 124, produced: 1026 tiles\n",
      "IMAGE - height: 3922, width: 3827, channels: 3\n",
      "MASK - height: 3922, width: 3827\n"
     ]
    },
    {
     "name": "stderr",
     "output_type": "stream",
     "text": [
      "\r\n",
      "126it [22:56, 17.33s/it]"
     ]
    },
    {
     "name": "stdout",
     "output_type": "stream",
     "text": [
      "Image nr.: 125, produced: 1260 tiles\n",
      "IMAGE - height: 3982, width: 3476, channels: 3\n",
      "MASK - height: 3982, width: 3476\n"
     ]
    },
    {
     "name": "stderr",
     "output_type": "stream",
     "text": [
      "\r\n",
      "127it [23:03, 14.21s/it]"
     ]
    },
    {
     "name": "stdout",
     "output_type": "stream",
     "text": [
      "Image nr.: 126, produced: 1152 tiles\n",
      "IMAGE - height: 5246, width: 5847, channels: 3\n",
      "MASK - height: 5246, width: 5847\n"
     ]
    },
    {
     "name": "stderr",
     "output_type": "stream",
     "text": [
      "\r\n",
      "128it [23:25, 16.75s/it]"
     ]
    },
    {
     "name": "stdout",
     "output_type": "stream",
     "text": [
      "Image nr.: 127, produced: 2544 tiles\n",
      "IMAGE - height: 2063, width: 1779, channels: 3\n",
      "MASK - height: 2063, width: 1779\n"
     ]
    },
    {
     "name": "stderr",
     "output_type": "stream",
     "text": [
      "\r\n",
      "129it [23:26, 11.99s/it]"
     ]
    },
    {
     "name": "stdout",
     "output_type": "stream",
     "text": [
      "Image nr.: 128, produced: 288 tiles\n",
      "IMAGE - height: 5641, width: 4951, channels: 3\n",
      "MASK - height: 5641, width: 4951\n"
     ]
    },
    {
     "name": "stderr",
     "output_type": "stream",
     "text": [
      "\r\n",
      "130it [23:49, 15.11s/it]"
     ]
    },
    {
     "name": "stdout",
     "output_type": "stream",
     "text": [
      "Image nr.: 129, produced: 2340 tiles\n",
      "IMAGE - height: 1896, width: 3317, channels: 3\n",
      "MASK - height: 1896, width: 3317\n"
     ]
    },
    {
     "name": "stderr",
     "output_type": "stream",
     "text": [
      "\r\n",
      "131it [23:57, 13.07s/it]"
     ]
    },
    {
     "name": "stdout",
     "output_type": "stream",
     "text": [
      "Image nr.: 130, produced: 510 tiles\n",
      "IMAGE - height: 6475, width: 7783, channels: 3\n",
      "MASK - height: 6475, width: 7783\n"
     ]
    },
    {
     "name": "stderr",
     "output_type": "stream",
     "text": [
      "\r\n",
      "132it [24:31, 19.21s/it]"
     ]
    },
    {
     "name": "stdout",
     "output_type": "stream",
     "text": [
      "Image nr.: 131, produced: 4189 tiles\n",
      "IMAGE - height: 3614, width: 6930, channels: 3\n",
      "MASK - height: 3614, width: 6930\n"
     ]
    },
    {
     "name": "stderr",
     "output_type": "stream",
     "text": [
      "\r\n",
      "133it [24:48, 18.65s/it]"
     ]
    },
    {
     "name": "stdout",
     "output_type": "stream",
     "text": [
      "Image nr.: 132, produced: 2079 tiles\n",
      "IMAGE - height: 3962, width: 4051, channels: 3\n",
      "MASK - height: 3962, width: 4051\n"
     ]
    },
    {
     "name": "stderr",
     "output_type": "stream",
     "text": [
      "\r\n",
      "134it [24:58, 16.10s/it]"
     ]
    },
    {
     "name": "stdout",
     "output_type": "stream",
     "text": [
      "Image nr.: 133, produced: 1332 tiles\n",
      "IMAGE - height: 3556, width: 4637, channels: 3\n",
      "MASK - height: 3556, width: 4637\n"
     ]
    },
    {
     "name": "stderr",
     "output_type": "stream",
     "text": [
      "\r\n",
      "135it [25:07, 14.02s/it]"
     ]
    },
    {
     "name": "stdout",
     "output_type": "stream",
     "text": [
      "Image nr.: 134, produced: 1344 tiles\n",
      "IMAGE - height: 957, width: 2359, channels: 3\n",
      "MASK - height: 957, width: 2359\n"
     ]
    },
    {
     "name": "stderr",
     "output_type": "stream",
     "text": [
      "\r\n",
      "136it [25:09, 10.19s/it]"
     ]
    },
    {
     "name": "stdout",
     "output_type": "stream",
     "text": [
      "Image nr.: 135, produced: 168 tiles\n",
      "IMAGE - height: 4237, width: 5758, channels: 3\n",
      "MASK - height: 4237, width: 5758\n"
     ]
    },
    {
     "name": "stderr",
     "output_type": "stream",
     "text": [
      "\r\n",
      "137it [25:29, 13.31s/it]"
     ]
    },
    {
     "name": "stdout",
     "output_type": "stream",
     "text": [
      "Image nr.: 136, produced: 2067 tiles\n",
      "IMAGE - height: 2142, width: 1748, channels: 3\n",
      "MASK - height: 2142, width: 1748\n"
     ]
    },
    {
     "name": "stderr",
     "output_type": "stream",
     "text": [
      "\r\n",
      "138it [25:30,  9.63s/it]"
     ]
    },
    {
     "name": "stdout",
     "output_type": "stream",
     "text": [
      "Image nr.: 137, produced: 304 tiles\n",
      "IMAGE - height: 3304, width: 3435, channels: 3\n",
      "MASK - height: 3304, width: 3435\n"
     ]
    },
    {
     "name": "stderr",
     "output_type": "stream",
     "text": [
      "\r\n",
      "139it [25:33,  7.59s/it]"
     ]
    },
    {
     "name": "stdout",
     "output_type": "stream",
     "text": [
      "Image nr.: 138, produced: 930 tiles\n",
      "IMAGE - height: 2138, width: 2968, channels: 3\n",
      "MASK - height: 2138, width: 2968\n"
     ]
    },
    {
     "name": "stderr",
     "output_type": "stream",
     "text": [
      "\r\n",
      "140it [25:37,  6.45s/it]"
     ]
    },
    {
     "name": "stdout",
     "output_type": "stream",
     "text": [
      "Image nr.: 139, produced: 513 tiles\n",
      "IMAGE - height: 1794, width: 2060, channels: 3\n",
      "MASK - height: 1794, width: 2060\n"
     ]
    },
    {
     "name": "stderr",
     "output_type": "stream",
     "text": [
      "\r\n",
      "141it [25:42,  6.17s/it]"
     ]
    },
    {
     "name": "stdout",
     "output_type": "stream",
     "text": [
      "Image nr.: 140, produced: 288 tiles\n",
      "IMAGE - height: 2818, width: 2826, channels: 3\n",
      "MASK - height: 2818, width: 2826\n"
     ]
    },
    {
     "name": "stderr",
     "output_type": "stream",
     "text": [
      "\r\n",
      "142it [25:46,  5.33s/it]"
     ]
    },
    {
     "name": "stdout",
     "output_type": "stream",
     "text": [
      "Image nr.: 141, produced: 625 tiles\n",
      "IMAGE - height: 2469, width: 2395, channels: 3\n",
      "MASK - height: 2469, width: 2395\n"
     ]
    },
    {
     "name": "stderr",
     "output_type": "stream",
     "text": [
      "\r\n",
      "143it [25:47,  4.14s/it]"
     ]
    },
    {
     "name": "stdout",
     "output_type": "stream",
     "text": [
      "Image nr.: 142, produced: 462 tiles\n",
      "IMAGE - height: 6286, width: 5569, channels: 3\n",
      "MASK - height: 6286, width: 5569\n"
     ]
    },
    {
     "name": "stderr",
     "output_type": "stream",
     "text": [
      "\r\n",
      "144it [26:10,  9.65s/it]"
     ]
    },
    {
     "name": "stdout",
     "output_type": "stream",
     "text": [
      "Image nr.: 143, produced: 2958 tiles\n",
      "IMAGE - height: 1036, width: 1222, channels: 3\n",
      "MASK - height: 1036, width: 1222\n"
     ]
    },
    {
     "name": "stderr",
     "output_type": "stream",
     "text": [
      "\r\n",
      "145it [26:10,  6.86s/it]"
     ]
    },
    {
     "name": "stdout",
     "output_type": "stream",
     "text": [
      "Image nr.: 144, produced: 99 tiles\n",
      "IMAGE - height: 2569, width: 3180, channels: 3\n",
      "MASK - height: 2569, width: 3180\n"
     ]
    },
    {
     "name": "stderr",
     "output_type": "stream",
     "text": [
      "\r\n",
      "146it [26:12,  5.38s/it]"
     ]
    },
    {
     "name": "stdout",
     "output_type": "stream",
     "text": [
      "Image nr.: 145, produced: 667 tiles\n",
      "IMAGE - height: 4312, width: 5406, channels: 3\n",
      "MASK - height: 4312, width: 5406\n"
     ]
    },
    {
     "name": "stderr",
     "output_type": "stream",
     "text": [
      "\r\n",
      "147it [26:29,  8.86s/it]"
     ]
    },
    {
     "name": "stdout",
     "output_type": "stream",
     "text": [
      "Image nr.: 146, produced: 1911 tiles\n",
      "IMAGE - height: 2995, width: 2909, channels: 3\n",
      "MASK - height: 2995, width: 2909\n"
     ]
    },
    {
     "name": "stderr",
     "output_type": "stream",
     "text": [
      "\r\n",
      "148it [26:33,  7.61s/it]"
     ]
    },
    {
     "name": "stdout",
     "output_type": "stream",
     "text": [
      "Image nr.: 147, produced: 702 tiles\n",
      "IMAGE - height: 4803, width: 4514, channels: 3\n",
      "MASK - height: 4803, width: 4514\n"
     ]
    },
    {
     "name": "stderr",
     "output_type": "stream",
     "text": [
      "\r\n",
      "149it [26:45,  8.65s/it]"
     ]
    },
    {
     "name": "stdout",
     "output_type": "stream",
     "text": [
      "Image nr.: 148, produced: 1804 tiles\n",
      "IMAGE - height: 3257, width: 3243, channels: 3\n",
      "MASK - height: 3257, width: 3243\n"
     ]
    },
    {
     "name": "stderr",
     "output_type": "stream",
     "text": [
      "\r\n",
      "150it [26:47,  6.89s/it]"
     ]
    },
    {
     "name": "stdout",
     "output_type": "stream",
     "text": [
      "Image nr.: 149, produced: 841 tiles\n",
      "IMAGE - height: 2316, width: 1864, channels: 3\n",
      "MASK - height: 2316, width: 1864\n"
     ]
    },
    {
     "name": "stderr",
     "output_type": "stream",
     "text": [
      "151it [26:50, 10.66s/it]"
     ]
    },
    {
     "name": "stdout",
     "output_type": "stream",
     "text": [
      "Image nr.: 150, produced: 357 tiles\n"
     ]
    },
    {
     "name": "stderr",
     "output_type": "stream",
     "text": [
      "\n"
     ]
    }
   ],
   "source": [
    "for number, image_name in tqdm(enumerate(images_names)):\n",
    "    # Load image/mask from file\n",
    "    image = cv2.imread(image_dir_path + \"\\\\\" + image_name, cv2.IMREAD_COLOR)\n",
    "    mask = cv2.imread(mask_dir_path + \"\\\\\" + image_name, cv2.IMREAD_GRAYSCALE)\n",
    "    \n",
    "    # Get image/mask parameters\n",
    "    image_height, image_width, image_channels = image.shape\n",
    "    mask_height, mask_width = mask.shape\n",
    "    \n",
    "    print(f\"IMAGE - height: {image_height}, width: {image_width}, channels: {image_channels}\")\n",
    "    print(f\"MASK - height: {mask_height}, width: {mask_width}\")\n",
    "    \n",
    "    row_index = 0\n",
    "    column_index = 0\n",
    "    \n",
    "    # Cycle by shift and cut images untill it is possible\n",
    "    while row_index + tile_size <= image_height:\n",
    "        column_index = 0 \n",
    "        while column_index + tile_size <= image_width:\n",
    "            image_tile = image[row_index : row_index + tile_size, column_index : column_index + tile_size]\n",
    "            mask_tile = mask[row_index : row_index + tile_size, column_index : column_index + tile_size]\n",
    "            \n",
    "            cv2.imwrite(get_path(image_name, row_index, column_index, 'I'), image_tile)\n",
    "            cv2.imwrite(get_path(image_name, row_index, column_index, 'M'), mask_tile)\n",
    "            \n",
    "            column_index += shift_size   \n",
    "        row_index += shift_size\n",
    "    \n",
    "    # Add tiles from last column (image width - tile size)\n",
    "    row_index_tmp = 0 \n",
    "    last_column = image_width - tile_size\n",
    "    while row_index_tmp + tile_size <= image_height:\n",
    "        image_tile = image[row_index_tmp : row_index_tmp + tile_size, last_column : last_column + tile_size]\n",
    "        mask_tile = mask[row_index_tmp : row_index_tmp + tile_size, last_column : last_column + tile_size]\n",
    "        \n",
    "        cv2.imwrite(get_path(image_name, row_index_tmp, column_index, \"I\"), image_tile)\n",
    "        cv2.imwrite(get_path(image_name, row_index_tmp, column_index, \"M\"), mask_tile)\n",
    "        \n",
    "        row_index_tmp += shift_size\n",
    "    \n",
    "    # Adding tiles from last row (image height - tile size )\n",
    "    column_index_tmp = 0\n",
    "    last_row = image_height - tile_size\n",
    "    while column_index_tmp + tile_size <= image_width:\n",
    "        image_tile = image[last_row : last_row + tile_size, column_index_tmp : column_index_tmp + tile_size]\n",
    "        mask_tile = mask[last_row : last_row + tile_size, column_index_tmp : column_index_tmp + tile_size]\n",
    "    \n",
    "        cv2.imwrite(get_path(image_name, row_index, column_index_tmp, 'I'), image_tile)\n",
    "        cv2.imwrite(get_path(image_name, row_index, column_index_tmp, 'M'), mask_tile)\n",
    "        \n",
    "        column_index_tmp += shift_size\n",
    "           \n",
    "    # Adding one last tile from last column and row\n",
    "    image_tile = image[last_row : last_row + tile_size, last_column : last_column + tile_size]\n",
    "    mask_tile = mask[last_row : last_row + tile_size, last_column : last_column + tile_size]\n",
    "    \n",
    "    cv2.imwrite(get_path(image_name, row_index, column_index, 'I'), image_tile)\n",
    "    cv2.imwrite(get_path(image_name, row_index, column_index, 'M'), mask_tile)\n",
    "    \n",
    "    print(\"Image nr.: \" + str(number) + \", produced: \" + str( int(row_index/shift_size) * int(column_index/shift_size) ) + \" tiles\")"
   ]
  },
  {
   "cell_type": "code",
   "execution_count": null,
   "id": "016fc80c",
   "metadata": {},
   "outputs": [],
   "source": []
  }
 ],
 "metadata": {
  "kernelspec": {
   "display_name": "Python 3",
   "language": "python",
   "name": "python3"
  },
  "language_info": {
   "codemirror_mode": {
    "name": "ipython",
    "version": 3
   },
   "file_extension": ".py",
   "mimetype": "text/x-python",
   "name": "python",
   "nbconvert_exporter": "python",
   "pygments_lexer": "ipython3",
   "version": "3.8.8"
  }
 },
 "nbformat": 4,
 "nbformat_minor": 5
}
